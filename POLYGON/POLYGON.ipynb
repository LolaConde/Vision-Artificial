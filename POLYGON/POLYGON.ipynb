{
 "cells": [
  {
   "cell_type": "markdown",
   "id": "1997acfa-49c4-4aa4-8ccc-93a9e037cc41",
   "metadata": {},
   "source": [
    "# POLYGON"
   ]
  },
  {
   "cell_type": "markdown",
   "id": "cf7670e3-93de-4c17-9b5e-2492b20c96ed",
   "metadata": {},
   "source": [
    "## Enunciado"
   ]
  },
  {
   "cell_type": "markdown",
   "id": "82bac1d7-a2e8-4f9a-9191-051ad2ab37e0",
   "metadata": {},
   "source": [
    "Implementa un procedimiento para mejorar la aproximación poligonal obtenida por el método `cv.approxPolyDP` permitiendo vértices fuera del contorno de entrada. Da una medida de la calidad de la aproximación. Pruébalo construyendo un cuadrilátero a partir de la silueta de un carnet o una tarjeta con las esquinas redondeadas."
   ]
  },
  {
   "cell_type": "markdown",
   "id": "92322c8e-7447-42a1-90b6-1817751b5161",
   "metadata": {},
   "source": [
    "## Explicación general del procedimiento implementado"
   ]
  },
  {
   "cell_type": "markdown",
   "id": "bd36ed52-f259-4acd-80eb-be26b44ea071",
   "metadata": {},
   "source": [
    "Para mejorar la aproximación de un contorno, permitiendo vértices fuera del contorno de entrada, se han realizado los siguientes pasos:\n",
    "\n",
    "1. Se ha ejecutado **cv.approxPolyDP**, de forma que se obtiene un contorno más simplificado.\n",
    "2. Como este método no funciona para esquinas redondeadas, se ha incluido un *factor de calidad* con un valor perteneciente a \\[0,1), de forma que **se eliminan las rectas** del contorno cuya **longitud sea demasiado pequeña** comparada con el resto (factor$*$longitud<longitud de la mayor línea).\n",
    "3. Una vez eliminadas las líneas demasiado pequeñas, para obtener las esquinas redondeadas, se calcula la **intersección entre las rectas** que se encontraban **conectadas a las rectas pequeñas que se han eliminado**, y se añade el punto de intersección al contorno, de forma que se obtiene la esquina que estas realizan.\n",
    "4. Una vez obtenido todo esto, se vuelve a realizar **cv.approxPolyDP**, de forma que se termina de simplificar el contorno.\n",
    "\n",
    "De esta forma, las rectas con un tamaño menor a un tanto por ciento de la recta más larga (el tanto por ciento se especifica por el *factor de calidad*), se consideran pertenecientes al redondeo de alguna esquina, por lo que se eliminan y se calcula la esquina correspondiente.\n",
    "\n"
   ]
  },
  {
   "cell_type": "markdown",
   "id": "155c53ee-90f7-4d7e-b3e8-b2888a6495c1",
   "metadata": {},
   "source": [
    "## Código"
   ]
  },
  {
   "cell_type": "code",
   "execution_count": null,
   "id": "651b78ac-8331-4560-bb87-7044e548cb65",
   "metadata": {
    "tags": []
   },
   "outputs": [],
   "source": [
    "from umucv.stream   import autoStream\n",
    "import cv2 as cv\n",
    "import numpy as np\n",
    "from umucv.contours import extractContours\n",
    "import matplotlib.pyplot as plt"
   ]
  },
  {
   "cell_type": "markdown",
   "id": "303e22a2-5c7e-427d-ae22-0a64ac22626e",
   "metadata": {},
   "source": [
    "En primer lugar, se realiza un método para mejorar la aproximación del contorno pasado como parámetro (los pasos 2 y 3 de la explicación general). En vez de explicarlo en un fragmento de código, se explica en comentarios del código porque se considera que así se entiende mejor."
   ]
  },
  {
   "cell_type": "code",
   "execution_count": null,
   "id": "9cf5e681-2d3b-4ac5-8cd5-1e5690498fad",
   "metadata": {
    "tags": []
   },
   "outputs": [],
   "source": [
    "# Mejora la aproximación del contorno pasado como parámetro\n",
    "def mejorar_aproximacion(contorno, factor_precision=0.25):\n",
    "    # copia de contorno\n",
    "    contorno_parametro = np.array(contorno)\n",
    "    # pone el contorno, en formato (n, 2) siendo n el número de puntos del contorno\n",
    "    contorno = contorno.reshape(contorno.shape[0],2)\n",
    "\n",
    "    # max_dist = Máxima distancia entre puntos de la silueta\n",
    "    max_dist = 0.0\n",
    "    for i in range(len(contorno)):\n",
    "        max_dist = max(max_dist, distancia(contorno[i], contorno[i-1]))\n",
    "          \n",
    "    # puntos = Contorno con los puntos que pertenecen a rectas largas, y None para indicar que se añada una línea como intersección de las dos líneas largas\n",
    "    # que se queden a los lados de None (para redondear las esquinas)\n",
    "    puntos = []\n",
    "    j = 0\n",
    "    for i in range(1, len(contorno)-1, 1):\n",
    "        # Si el punto no está en ninguna línea \"larga\"\n",
    "        if ((distancia(contorno[i], contorno[i-1]) < factor_precision*max_dist) and (distancia(contorno[i], contorno[i+1]) < factor_precision*max_dist)):\n",
    "            # Añadir None para alargar las rectas de los lados\n",
    "            if j == 0 or puntos[j-1] is not None:\n",
    "                puntos += [None]\n",
    "                j += 1\n",
    "        # Si el punto pertenece a una línea \"larga\" por la izquierda pero no por la derecha\n",
    "        elif (distancia(contorno[i], contorno[i+1]) < factor_precision*max_dist):\n",
    "            puntos += [contorno[i]]\n",
    "            puntos += [None]\n",
    "            j += 2\n",
    "        # Si el punto pertenece a una línea larga por ambos lados\n",
    "        else:\n",
    "            puntos += [contorno[i]]\n",
    "            j += 1\n",
    "    \n",
    "    # El mismo concepto pero con los puntos de las esquinas\n",
    "    if (len(contorno) >= 2):\n",
    "        # Punto [0]: No pertenece a ninguna recta \"larga\"\n",
    "        if (distancia(contorno[0], contorno[1]) < factor_precision*max_dist) and (distancia(contorno[0], contorno[len(contorno)-1]) < factor_precision*max_dist):\n",
    "            if j == 0 or puntos[0] is not None:\n",
    "                puntos = [None] + puntos\n",
    "                j += 1\n",
    "        # Punto[0]: Pertenece a una recta \"larga\" por la izquierda pero no por la derecha\n",
    "        elif (distancia(contorno[0], contorno[1]) < factor_precision*max_dist):\n",
    "            if j == 0 or puntos[0] is not None:\n",
    "                puntos = [contorno[0]] + [None] + puntos\n",
    "                j += 2\n",
    "            else:\n",
    "                puntos = [contorno[0]] + puntos\n",
    "                j += 1\n",
    "        # Punto[0]: Pertenece a una línea larga por ambos lados\n",
    "        else:\n",
    "            puntos = [contorno[0]] + puntos\n",
    "            j += 1\n",
    "        # Punto[ultimo]: No pertenece a ninguna recta \"larga\"\n",
    "        if (distancia(contorno[len(contorno)-2], contorno[len(contorno)-1]) < factor_precision*max_dist) and (distancia(contorno[0], contorno[len(contorno)-1]) < factor_precision*max_dist):\n",
    "            if j == 0 or puntos[j-1] is not None:\n",
    "                puntos += [None]\n",
    "                j += 1\n",
    "        # Punto[ultimo]: Pertenece a una recta \"larga\" por la izquierda pero no por la derecha\n",
    "        elif (distancia(contorno[len(contorno)-1], contorno[0]) < factor_precision*max_dist):\n",
    "            if j == 0 or puntos[0] is not None:\n",
    "                puntos = puntos + [contorno[len(contorno)-1]] + [None]\n",
    "                j += 2\n",
    "            else:\n",
    "                puntos = puntos + [contorno[len(contorno)-1]]\n",
    "                j += 1\n",
    "        # Punto[ultimo]: Pertenece a una línea larga por ambos lados\n",
    "        else:\n",
    "            puntos = puntos + [contorno[len(contorno)-1]]\n",
    "            j += 1\n",
    "        # Si se ha quedado con None al principio y al final, se elimina uno de ellos para evitar tener dos None seguidos\n",
    "        if (puntos[0] is None and puntos[len(puntos)-1] is None):\n",
    "            puntos = puntos[:-1]\n",
    "\n",
    "    # Si la silueta tiene menos de 5 puntos, no hay esquinas a las que quitar el redondeo\n",
    "    if len(puntos) < 5:\n",
    "        return contorno_parametro\n",
    "    \n",
    "    # puntosFinal = Silueta con los puntos de \"puntos\" y en vez de None un punto que forma la intersección de las dos rectas que se quedan a los lados de None\n",
    "    # Si no hay intersección entre las rectas (son paralelas), se pone el punto medio entre los puntos de los extremos del punto a añadir\n",
    "    puntosFinal = np.array([])\n",
    "    for i in range(len(puntos)):\n",
    "        if puntos[i] is None:\n",
    "            # Puntos que forman las rectas anterior y posterior\n",
    "            r1_p1 = (i-1) % len(puntos)\n",
    "            r1_p1 = puntos[r1_p1]\n",
    "            r1_p2 = (i-2) % len(puntos)\n",
    "            r1_p2 = puntos[r1_p2]\n",
    "            r2_p1 = (i+1) % len(puntos)\n",
    "            r2_p1 = puntos[r2_p1]\n",
    "            r2_p2 = (i+2) % len(puntos)\n",
    "            r2_p2 = puntos[r2_p2]\n",
    "            # Rectas anterior y posterior\n",
    "            recta1 = np.cross(np.array([r1_p1[0], r1_p1[1], 1]),np.array([r1_p2[0], r1_p2[1], 1]))\n",
    "            recta2 = np.cross(np.array([r2_p1[0], r2_p1[1], 1]),np.array([r2_p2[0], r2_p2[1], 1]))\n",
    "            # Intersección de rectas\n",
    "            recta_h_interseccion = np.cross(recta1, recta2)\n",
    "            if recta_h_interseccion[2] == 0: # Si las rectas son paralelas, el punto medio\n",
    "                if len(puntosFinal) == 0: # Si es el primer punto\n",
    "                    puntosFinal = np.array([[int((r1_p2[0]+r2_p1[0])/2),int((r1_p2[1]+r2_p1[1])/2)]])\n",
    "                else:\n",
    "                    puntosFinal = np.append(puntosFinal, [[int((r1_p2[0]+r2_p1[0])/2),int((r1_p2[1]+r2_p1[1])/2)]], axis=0)\n",
    "            else: # Si las rectas no son paralelas, se añade el punto de intersección entre las rectas\n",
    "                if len(puntosFinal) == 0: # Si es el primer punto\n",
    "                    puntosFinal = np.array([[int(abs(recta_h_interseccion[0]/recta_h_interseccion[2])), int(abs(recta_h_interseccion[1]/recta_h_interseccion[2]))]])\n",
    "                else:\n",
    "                    puntosFinal = np.append(puntosFinal, [[int(abs(recta_h_interseccion[0]/recta_h_interseccion[2])), int(abs(recta_h_interseccion[1]/recta_h_interseccion[2]))]], axis=0)\n",
    "        # Si el punto no es None, se añade a la silueta\n",
    "        else:\n",
    "            if len(puntosFinal) == 0: # Si es el primer punto\n",
    "                puntosFinal = np.array([[puntos[i][0], puntos[i][1]]])\n",
    "            else:\n",
    "                puntosFinal = np.append(puntosFinal, [[puntos[i][0], puntos[i][1]]], axis=0)\n",
    "    return puntosFinal"
   ]
  },
  {
   "cell_type": "markdown",
   "id": "13c0bbe2-cc82-4c68-9771-569390333171",
   "metadata": {
    "tags": []
   },
   "source": [
    "Posteriormente, se guarda la distancia entre 2 puntos en un método (*distancia*), ya que esto se necesita para la función anterior (*mejorar_aproximacion*)."
   ]
  },
  {
   "cell_type": "code",
   "execution_count": null,
   "id": "6947a891-c8a2-4053-bc98-6865a026ce98",
   "metadata": {
    "tags": []
   },
   "outputs": [],
   "source": [
    "# Calcular distancia entre 2 puntos\n",
    "def distancia(p1, p2):\n",
    "    return np.sqrt((p2[0] - p1[0])**2 + (p2[1] - p1[1])**2)"
   ]
  },
  {
   "cell_type": "markdown",
   "id": "25025552-d388-4955-b2a1-f8d1a3c43856",
   "metadata": {},
   "source": [
    "Se utiliza el método dado por el profesor en los [apuntes de la asignatura](https://github.com/albertoruiz/umucv/tree/master) para reducir los puntos de un contorno con la llamada a una función de OpenCV que lo realiza."
   ]
  },
  {
   "cell_type": "code",
   "execution_count": null,
   "id": "e85205be-5a3f-4ea2-a36b-2563fcd71e35",
   "metadata": {
    "tags": []
   },
   "outputs": [],
   "source": [
    "# reducimos una polilínea con una tolerancia dada\n",
    "def redu(c, eps=0.5):\n",
    "    red = cv.approxPolyDP(c,eps,True)\n",
    "    return red.reshape(-1,2)"
   ]
  },
  {
   "cell_type": "markdown",
   "id": "bd0e72db-29d7-47db-ac94-7d7584225f7a",
   "metadata": {},
   "source": [
    "A este método se pasa el contorno con los puntos, y como se dijo anteriormente, se reducen los puntos con la función de OpenCV, se mejora la aproximación de las esquinas permitiendo puntos fuera del contorno, y se vuelve a usar la función de OpenCV para volver a reducir los puntos."
   ]
  },
  {
   "cell_type": "code",
   "execution_count": null,
   "id": "355a6b95-1f5d-4109-bac7-21b45709c5a7",
   "metadata": {
    "tags": []
   },
   "outputs": [],
   "source": [
    "# filtramos una lista de contornos con aquellos\n",
    "# que quedan reducidos a n vértices con la precisión deseada.\n",
    "def polygons(cs,n,prec=1):\n",
    "    # Quedarse con la silueta reducida\n",
    "    rs = [ redu(c,prec) for c in cs ]\n",
    "    # Mejora la aproximación de la silueta\n",
    "    rs_mejorado = [mejorar_aproximacion(r, 0.25) for r in rs]\n",
    "    # Vuelve a reducir la silueta\n",
    "    rs_mejorado_reducido = [redu(r, prec) for r in rs_mejorado]\n",
    "    # Quedarse con las siluetas que tengan n vértices\n",
    "    resultado = [r for r in rs_mejorado_reducido if len(r) == n]\n",
    "    return resultado"
   ]
  },
  {
   "cell_type": "markdown",
   "id": "4fc90e6f-e068-4782-ae6d-c28ea859592d",
   "metadata": {},
   "source": [
    "## Prueba con búsqueda de cuadriláteros en la imagen de un carnet"
   ]
  },
  {
   "cell_type": "markdown",
   "id": "74317ad8-5b59-451a-8a88-cd5416ee8022",
   "metadata": {},
   "source": [
    "Se prueba la aproximación con la imagen de un carnet:"
   ]
  },
  {
   "cell_type": "code",
   "execution_count": null,
   "id": "5057f902-d37e-4022-9fe1-cecbae9f51b8",
   "metadata": {
    "tags": []
   },
   "outputs": [],
   "source": [
    "# Se guarda la imagen en escala de grises para que tenga 1 solo valor y no 3 por píxel (como es el caso de BGR).\n",
    "carnet = cv.imread('./carnet-falso.jpg')\n",
    "# Se invierten los colores porque extractContours sólo extrae contornos de figuras oscuras sobre fondos claros\n",
    "carnet = cv.bitwise_not(carnet)\n",
    "carnet = cv.cvtColor(carnet,cv.COLOR_BGR2GRAY)\n",
    "# Se extraen los contornos\n",
    "cs = extractContours(carnet, minarea=10)\n",
    "# Se llama al método que mejora la aproximación de los contornos (reduce los puntos) y se queda solamente con aquellos que tras la reducción tienen 4 vértices\n",
    "good = polygons(cs, n=4, prec=3)\n",
    "# Se vuelve a leer la imagen para que se vean los contornos sobre la imagen original\n",
    "carnet = cv.imread('./carnet-falso.jpg')\n",
    "# dibujamos en cyan todos los contornos interesantes\n",
    "cv.drawContours(carnet,[c.astype(int) for c in cs], -1, (0,255,255), 2, cv.LINE_AA)\n",
    "# dibujamos en rojo más grueso los cuadrados encontrados\n",
    "cv.drawContours(carnet,[c.astype(int) for c in good], -1, (255,0,0), 3, cv.LINE_AA)\n",
    "# Mostrar imagen con las líneas dibujadas\n",
    "plt.figure(figsize=(8,6))\n",
    "plt.imshow(carnet)\n",
    "plt.show()"
   ]
  },
  {
   "cell_type": "markdown",
   "id": "135af229-9e08-45ac-bd9a-1058178a6bfd",
   "metadata": {},
   "source": [
    "Como se puede observar, se ha eliminado el redondeo de las esquinas, con vértices para estas fuera del contorno de entrada."
   ]
  },
  {
   "cell_type": "markdown",
   "id": "0d0a7bb3-7cf3-4663-90ca-0b78528a834d",
   "metadata": {},
   "source": [
    "## Teoría utilizada"
   ]
  },
  {
   "cell_type": "markdown",
   "id": "ea9525c1-0b5d-4079-a7cb-fc9382fd05a9",
   "metadata": {},
   "source": [
    "Para obtener las intersecciones de rectas, se han utilizado las coordenadas homogéneas, cuya explicación se encuentra en [los apuntes de la asignatura](https://github.com/albertoruiz/umucv/blob/96a0e8bcc9e95151c309ac48f743e4fd8a90a77c/notebooks/coordhomog.ipynb)"
   ]
  },
  {
   "cell_type": "markdown",
   "id": "32af4b3e-476c-4bf1-99c0-4e4707384c33",
   "metadata": {},
   "source": [
    "A su vez, se ha realizado el código partiendo del programa [polygon0.py](https://github.com/albertoruiz/umucv/blob/96a0e8bcc9e95151c309ac48f743e4fd8a90a77c/code/polygon/polygon0.py)."
   ]
  }
 ],
 "metadata": {
  "kernelspec": {
   "display_name": "Python 3 (ipykernel)",
   "language": "python",
   "name": "python3"
  },
  "language_info": {
   "codemirror_mode": {
    "name": "ipython",
    "version": 3
   },
   "file_extension": ".py",
   "mimetype": "text/x-python",
   "name": "python",
   "nbconvert_exporter": "python",
   "pygments_lexer": "ipython3",
   "version": "3.11.5"
  }
 },
 "nbformat": 4,
 "nbformat_minor": 5
}
