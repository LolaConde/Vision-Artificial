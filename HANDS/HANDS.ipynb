{
 "cells": [
  {
   "cell_type": "markdown",
   "id": "1aa5c5f6",
   "metadata": {},
   "source": [
    "# HANDS"
   ]
  },
  {
   "cell_type": "markdown",
   "id": "a50fe399",
   "metadata": {},
   "source": [
    "# Índice"
   ]
  },
  {
   "cell_type": "markdown",
   "id": "42c56344",
   "metadata": {},
   "source": [
    "[Enunciado](#Enunciado)\n",
    "\n",
    "[Solución](#Solución)\n",
    "\n",
    "[Explicación de la fórmula para el cálculo de la distancia de la mano a la cámara](#Explicación-de-la-fórmula-para-el-cálculo-de-la-distancia-de-la-mano-a-la-cámara)\n",
    "\n",
    "[Ejecución del código: Ejemplo de funcionamiento](#Ejecución-del-código:-Ejemplo-de-funcionamiento)\n",
    "\n",
    "[Tardanza del código](#Tardanza-del-código)\n",
    "\n",
    "[Bibliografía usada](#Bibliografía-usada)"
   ]
  },
  {
   "cell_type": "markdown",
   "id": "d4420888",
   "metadata": {},
   "source": [
    "## Enunciado\n",
    "\n",
    "Amplia el ejemplo `code/DL/hands/mano.py` hecho en clase para reconocer gestos simples, como por ejemplo contar el n´umero de dedos extendidos. Haz un controlador sin contacto de varios grados de libertad que mida, al menos, distancia de la mano a la cámara y ángulo de orientación. Utilízalo para controlar alguno de tus programas.\n"
   ]
  },
  {
   "cell_type": "markdown",
   "id": "19b5c550",
   "metadata": {},
   "source": [
    "## Solución\n",
    "\n",
    "La solución está en `HANDS/mano.py`. La aplicación que controla está en `HANDS/programa.py`.\n",
    "\n",
    "Este programa realiza las siguientes tareas:\n",
    "\n",
    "- **Mostrar una cámara**\n",
    "\n",
    "  Se captura cada fotograma, se procesa para realizar las tareas indicadas posteriormente, y se muestra.\n",
    "\n",
    "- **Dibujar la palma de la mano y los dedos**\n",
    "\n",
    "  Obteniendo los puntos de la mano con la herramienta `MediaPipe Hands`, se han realizado líneas entre el principio y el final de los dedos de la mano. \n",
    "\n",
    "  Para la palma, primero se ha obtenido el centro de tres puntos que se encuentran en el borde de la palma, de forma que se obtiene el centro de la palma. En segundo lugar, se obtiene el radio, calculado como la distancia entre el centro y un punto que está al borde de la palma. De esta forma, se puede dibujar un círculo en la palma con el centro y radio calculados.\n",
    "\n",
    "- **Calcular qué dedos hay levantados**\n",
    "\n",
    "  Para los dedos índice, corazón, anular y meñique, se ha calculado si se encuentran abiertos o cerrados usando la distancia entre el punto más bajo de la palma y el principio o el final del dedo. Si el dedo se encuentra cerrado, la distancia entre el punto más bajo de la palma y el final del dedo será menor que la distancia entre el punto más bajo de la palma y el principio del dedo. Si está abierto, es al contrario (es mayor).\n",
    "\n",
    "  Para el dedo pulgar, se ha considerado abierto si el principio del índice está más cerca del final de la mano que el final del pulgar. Si está más lejos, el dedo pulgar está cerrado.\n",
    "\n",
    "- **Calcular el ángulo de orientación de la mano**\n",
    "\n",
    "  Para calcular el ángulo de orientación de la mano, se ha calculado el ángulo entre dos vectores, el vector horizontal y el vector que se encuentra entre el final de la palma y el principio del dedo corazón. El segundo vector debe formar 0 grados con el horizontal si la mano está horizontal, y si esta empieza a girar, se calcula el ángulo.\n",
    "\n",
    "  Si el principio de la palma está más a la izquierda que el principio del dedo corazón, entonces el ángulo es negativo. Esto se realiza comparando la componente x de los puntos.\n",
    "\n",
    "- **Controlar una aplicación**\n",
    "\n",
    "  Si todos los dedos están levantados, se abre la aplicación, y si todos están cerrados se cierra. La condición ya estaba calculada en el cálculo de los dedos levantados.\n",
    "\n",
    "- **Calcular la distancia de la mano a la cámara**\n",
    "\n",
    "  Se usa la palma de la mano para calcular la distancia. Se calcula con la fórmula siguiente:\n",
    "\n",
    "  $$\\frac{\\text{distancia focal} * \\text{ancho de la palma en centímetros}}{\\text{ancho de la palma en píxeles}} = \\text{distancia a la cámara en centímetros}$$\n",
    "\n",
    "  Para calcular la distancia focal, se ha utilizado la herramienta `calibrate.py`, que se puede encontrar en [el material de la asignatura](https://github.com/albertoruiz/umucv/tree/master/code/calibrate). Las fotografías tomadas para el cálculo de la distancia focal se encuentran en la carpeta `HANDS/pattern`."
   ]
  },
  {
   "cell_type": "markdown",
   "id": "8a3ca740",
   "metadata": {},
   "source": [
    "## Explicación de la fórmula para el cálculo de la distancia de la mano a la cámara\n",
    "\n",
    "La distancia focal es la distancia (en píxeles) desde el centro del objetivo de la cámara hasta el sensor de esta. El objetivo es el lugar donde se encuentra la lente de la cámara, y el sensor es donde se proyecta la luz de la imagen para poder procesarla o almacenarla.\n",
    "\n",
    "La distancia focal se obtiene realizando la calibración de la cámara. Su obtención es muy útil, debido a que con esta se puede calcular la distancia de la cámara a un objeto (dada una fotografía), si se sabe el tamaño de este en la realidad y en la fotografía.\n",
    "\n",
    "Para explicar la fórmula para obtener la distancia, se necesita un objeto. Es este caso, se va a explicar con un esquema cuyo objeto es una botella:\n",
    "\n",
    "<img src=\"./img/formula1.jpeg\" style=\"width:20%\"/>\n",
    "\n",
    "Como se puede observar: X es la altura de la botella en el mundo real, Z es la distancia de la cámara a la botella, x es la altura de la botella en la fotografía tomada, y f es la distancia focal.\n",
    "\n",
    "Se puede observar como se forman dos triángulos (uno con lados f y x, y otro con lados X y Z). Los triángulos se encuentran en posición de Thales, por lo que se obtiene la siguiente fórmula:\n",
    "\n",
    "$$\\frac{X}{Z}=\\frac{x}{f}$$\n",
    "\n",
    "Si se quiere obtener más información sobre el teorema de Thales, se puede observar la siguiente url: https://www.superprof.es/apuntes/escolar/matematicas/geometria/basica/triangulos-en-posicion-de-thales.html."
   ]
  },
  {
   "cell_type": "markdown",
   "id": "7d260a8b",
   "metadata": {},
   "source": [
    "## Ejecución del código: Ejemplo de funcionamiento"
   ]
  },
  {
   "cell_type": "markdown",
   "id": "47e3f2e3",
   "metadata": {},
   "source": [
    "Para ejecutar el código de HANDS, se debe de ejecutar el código de `mano.py` desde la carpeta `HANDS` en el entorno de anaconda prompt explicado al inicio de la asignatura."
   ]
  },
  {
   "cell_type": "markdown",
   "id": "6e1f3fc4",
   "metadata": {},
   "source": [
    "Una vez abierta la aplicación, se debe mostrar una mano en la cámara (si se muestra más de una, sólo se tendrá una en cuenta, y en esta se dibujarán líneas en los dedos y un circulo azul en la palma)."
   ]
  },
  {
   "cell_type": "markdown",
   "id": "1bfa04a5",
   "metadata": {},
   "source": [
    "- **Dedos levantados**:\n",
    "\n",
    "  Si se levantan o bajan los dedos, se indica en la pantalla qué dedos están levantados:\n",
    "  \n",
    "  <table><tr>\n",
    "  <td> <img src=\"img/dedos-en-alto.png\"/> </td>\n",
    "  <td> <img src=\"img/4-dedos-en-alto.png\"/> </td>\n",
    "  <td> <img src=\"img/dedos-hacia-delante.png\"/> </td>\n",
    "  <td> <img src=\"img/dedos-hacia-atras.png\"/> </td>\n",
    "  </tr></table>\n",
    "\n",
    "  Como se puede observar, el programa diferencia los dedos indiferentemente de la posición de la mano.\n",
    "\n",
    "- **Grados**:\n",
    "\n",
    "  También se puede observar el ángulo de la mano, de forma que va desde 180 hasta -180 grados:\n",
    "\n",
    "  <table><tr>\n",
    "  <td> <img src=\"img/0-grados.png\"/> </td>\n",
    "  <td> <img src=\"img/90-grados.png\"/> </td>\n",
    "  <td> <img src=\"img/179-grados.png\"/> </td>\n",
    "  <td> <img src=\"img/-90-grados.png\"/> </td>\n",
    "  </tr></table>\n",
    "\n",
    "- **Distancia a la cámara**:\n",
    "\n",
    "  Como se puede observar, se indica la distancia a la cámara (se muestra un video donde se acerca y se aleja la mano para que se va de mejor forma:\n",
    "\n",
    "  <video src=\"img/distancia-mano.mp4\" controls='play' style=\"width:50%\">\n",
    "  </video>\n",
    "\n",
    "- **Abrir y cerrar una aplicación**:\n",
    "\n",
    "  Se presenta un vídeo en el que se ve cómo se abre (cinco dedos arriba) y se cierra (cinco dedos abajo) una aplicación con `mano.py`:\n",
    "\n",
    "  <video src=\"img/abrir-cerrar-aplicacion.mp4\" controls='play' style=\"width:50%\">\n",
    "  </video>"
   ]
  },
  {
   "cell_type": "markdown",
   "id": "4587d5bf",
   "metadata": {},
   "source": [
    "## Tardanza del código"
   ]
  },
  {
   "cell_type": "markdown",
   "id": "a8e16a34",
   "metadata": {},
   "source": [
    "Para ver cuanto tarda en ejecutar el código se va a añadir las siguientes líneas de código cuando se captura y cuando se muestra el frame:"
   ]
  },
  {
   "cell_type": "code",
   "execution_count": null,
   "id": "306b30d6",
   "metadata": {},
   "outputs": [],
   "source": [
    "import time\n",
    "# ...\n",
    "inicio = time.time()\n",
    "\n",
    "# Código que se hace cada frame\n",
    "\n",
    "fin = time.time()\n",
    "print(fin-inicio)"
   ]
  },
  {
   "cell_type": "markdown",
   "id": "9427f75d",
   "metadata": {},
   "source": [
    "Como se puede observar, este código tarda 0 segundos porque no hace nada en medio, pero al añadirlo a `mano.py`, el tiempo aumenta:"
   ]
  },
  {
   "cell_type": "markdown",
   "id": "e52ef9fd",
   "metadata": {},
   "source": [
    "- Al no mostrar manos, cada frame tarda unos 0.07 segundos en mostrarse.\n",
    "\n",
    "- Como es de esperar, al mostrar una mano, el hecho de tener que hacer más cálculos hace que el frame tarde más en mostrarse (unos 0.12 segundos).\n",
    "\n",
    "- El hecho de mover las manos hace que en algunos frames sea más dificil calcular el frame resultante a mostrar (0.19 segundos), y en otros más sencillo (0.06 segundos). Los frames más sencillos tienen un tiempo similar a los tiempos al no mostrar manos, por lo que se puede intuir que en esos frames no se mostraron manos (o estas no fueron reconocidas al no verse de forma correcta por la velocidad)."
   ]
  },
  {
   "cell_type": "markdown",
   "id": "26f3f32d",
   "metadata": {},
   "source": [
    "## Bibliografía usada\n",
    "\n",
    "[Comprender Hand Landmark - MediaPipe](https://github.com/google/mediapipe/blob/master/docs/solutions/hands.md)\n",
    "\n",
    "[Aprender a dibujar cuadrados](https://docs.opencv.org/3.4/d6/d6e/group__imgproc__draw.html#ga07d2f74cadcf8e305e810ce8eed13bc9)\n",
    "\n",
    "[Aprender a escribir texto](https://docs.opencv.org/3.4/d6/d6e/group__imgproc__draw.html#ga5126f47f883d730f633d74f07456c576)\n",
    "\n",
    "[Aprender a dibujar círculos: cv.circle](https://docs.opencv.org/3.4/d6/d6e/group__imgproc__draw.html#gaf10604b069374903dbd0f0488cb43670)\n",
    "\n",
    "[Funciones de math](https://docs.python.org/3/library/math.html)\n",
    "\n",
    "[Ángulo entre dos vectores (para calcular la orientación de la mano)](https://www.superprof.es/apuntes/escolar/matematicas/analitica/vectores/angulo-de-dos-vectores.html)\n",
    "\n",
    "[Material de la asignatura](https://github.com/albertoruiz/umucv/blob/master/notebooks/imagen.ipynb)\n",
    "\n",
    "[Entender qué es la distancia focal](https://www.sony.es/electronics/support/articles/00267921)\n",
    "\n",
    "[Entender qué es un sensor](https://www.blogdelfotografo.com/tipos-caracteristicas-ventajas-sensores-camaras-fotos/)\n",
    "\n",
    "[Teorema de Thales](https://www.superprof.es/apuntes/escolar/matematicas/geometria/basica/triangulos-en-posicion-de-thales.html)\n",
    "\n",
    "También se ha usado ChatGPT para crear el programa llamado `programa.py`, el cual crea una ventana. Este se utilizó para controlarlo con `mano.py`, de forma que se vea la ventana abrirse y cerrarse según el gesto de la mano."
   ]
  }
 ],
 "metadata": {
  "kernelspec": {
   "display_name": "Python 3 (ipykernel)",
   "language": "python",
   "name": "python3"
  },
  "language_info": {
   "codemirror_mode": {
    "name": "ipython",
    "version": 3
   },
   "file_extension": ".py",
   "mimetype": "text/x-python",
   "name": "python",
   "nbconvert_exporter": "python",
   "pygments_lexer": "ipython3",
   "version": "3.11.5"
  }
 },
 "nbformat": 4,
 "nbformat_minor": 5
}
