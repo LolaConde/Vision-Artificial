{
 "cells": [
  {
   "cell_type": "markdown",
   "id": "70681f21-0cec-443e-9f15-c2c4dde71959",
   "metadata": {},
   "source": [
    "# RECTIF"
   ]
  },
  {
   "cell_type": "markdown",
   "id": "5f3c9455-ba5f-4731-9e0c-fd8f2bec661b",
   "metadata": {},
   "source": [
    "## Enunciado"
   ]
  },
  {
   "cell_type": "markdown",
   "id": "be22430f-9059-4c25-b635-5f25c112ca80",
   "metadata": {},
   "source": [
    " Rectifica la imagen de un plano para medir distancias (tomando manualmente referencias conocidas). Por ejemplo, mide la distancia entre las monedas en `coins.png` o la distancia a la que se realiza el disparo en `gol-eder.png`. Las coordenadas reales de los puntos de referencia y sus posiciones en la imagen deben pasarse como parámetro en un archivo de texto. Aunque puedes mostrar la imagen rectificada para comprobar las operaciones, debes marcar los puntos y mostrar el resultado sobre la imagen original. Verifica los resultados con **imágenes originales** tomadas por ti."
   ]
  },
  {
   "cell_type": "markdown",
   "id": "d75e9ee4",
   "metadata": {},
   "source": [
    "## Explicación del código"
   ]
  },
  {
   "cell_type": "markdown",
   "id": "e8e87d32",
   "metadata": {},
   "source": [
    "### Funciones de otros utilizadas"
   ]
  },
  {
   "cell_type": "markdown",
   "id": "24729a67-5760-4719-ada8-0ba07709bf2b",
   "metadata": {
    "vscode": {
     "languageId": "plaintext"
    }
   },
   "source": [
    "Se utilizan funciones proporcionadas en los [apuntes de la asignatura](https://github.com/albertoruiz/umucv/blob/96a0e8bcc9e95151c309ac48f743e4fd8a90a77c/notebooks/transf2D.ipynb), de modo que se tiene una función (*htrans*) que aplica una transformación homogénea h a un conjunto de puntos (\"tradicionales\", no homogéneos).\n",
    "\n",
    "A su vez, se utiliza una función de OpenCV llamada *findHomography*, que dado dos conjuntos de coordenadas (que se refieren a los mismos puntos), devuelve la homografía (transformación que se aplica a las coordenadas de un conjunto para obtener el otro)."
   ]
  },
  {
   "cell_type": "markdown",
   "id": "388c62c9",
   "metadata": {},
   "source": [
    "### Código implementado"
   ]
  },
  {
   "cell_type": "markdown",
   "id": "54babe2f-66d6-4b24-91aa-4673a60c6d9a",
   "metadata": {},
   "source": [
    "Se debe pasar la ruta de dos archivos como parámetros del script:\n",
    "\n",
    "- La imagen sobre la que se medirán distancias\n",
    "- El archivo con las coordenadas de los puntos de referencia en la imagen y en la realidad\n",
    "\n",
    "A partir de estos dos archivos, se obtiene la imagen y las coordenadas.\n",
    "\n",
    "Una vez leídas las coordenadas, se calcula a partir de ellas la homografía (usando *findHomography*). Con la homografía calculada, ya se pueden medir distancias:\n",
    "\n",
    "- Se muestra la imagen para que se seleccionen los puntos\n",
    "- El usuario selecciona dos puntos en la imagen clicando sobre ellos (se guarda el punto y se pinta un círculo para indicar dónde se ha seleccionado)\n",
    "- Una vez seleccionados dos puntos, se calculan las coordendas que tendrían en la realidad estos puntos (utilizando *htrans* con los puntos seleccionados y la homografía ya calculada)\n",
    "- Con las coordenadas reales, se calcula la distancia entre los dos puntos, obteniendo la distancia real entre los puntos. Una vez obtenida, sólo queda dibujar la distancia y esperar a que se vuelvan a seleccionar dos puntos para empezar de nuevo\n",
    "\n",
    "El último aspecto a resaltar es que, cuando se espera a seleccionar de nuevo dos puntos, la imagen sigue mostrando la distancia entre los puntos seleccionados anteriormente. De esta forma, cuando se hace clic por primera vez, se vuelve a obtener la imagen sin dibujar antes de pintar un circulo sobre el primer punto seleccionado."
   ]
  },
  {
   "cell_type": "markdown",
   "id": "2c2e686d",
   "metadata": {},
   "source": [
    "### Formato del archivo de coordenadas"
   ]
  },
  {
   "cell_type": "markdown",
   "id": "b06005d2",
   "metadata": {},
   "source": [
    "El archivo de coordenadas debe tener el siguiente formato:\n",
    "\n",
    "```\n",
    "x1 , y1 - X1 , Y1\n",
    "x2 , y2 - X2 , Y2\n",
    "...\n",
    "```\n",
    "\n",
    "De forma que cada línea contiene las coordenadas de un punto de referencia. Las coordenadas x e y se refieren a la posición del punto en la imagen, mientras que las coordenadas X e Y se refieren a la posición real del punto."
   ]
  },
  {
   "cell_type": "markdown",
   "id": "9148bfce-f574-4e39-912e-1e360ea34d26",
   "metadata": {},
   "source": [
    "## Ejecución del código: Ejemplos de funcionamiento"
   ]
  },
  {
   "cell_type": "markdown",
   "id": "b68d3d4e-a332-4245-aa96-75dd3141159e",
   "metadata": {},
   "source": [
    "Se va a mostrar un ejemplo de funcionamiento con *coins.png*"
   ]
  },
  {
   "cell_type": "markdown",
   "id": "1e848e07-23a6-4ecf-8182-a6e939b4e027",
   "metadata": {},
   "source": [
    "1. Se ejecuta el programa (*RECTIF.py --imagen coins.png --coordenadas coins.txt*)\n",
    "   - coins.png es la imagen sobre la que se medirán distancias\n",
    "   - coins.txt es el archivo con las coordenadas de los puntos de referencia.\n",
    "\n",
    "2. Se muestra la imagen para seleccionar dos puntos"
   ]
  },
  {
   "cell_type": "markdown",
   "id": "ab5c6e64-9587-4fc5-b594-61a7b16e0a13",
   "metadata": {},
   "source": [
    "<img src=\"./img/imagen-selecciona.png\" style=\"width:35%\"> </img>\n",
    "<br><em>Paso 2 (Imagen mostrada para seleccionar los puntos)</em>"
   ]
  },
  {
   "cell_type": "markdown",
   "id": "5db10e15-c78a-4193-a87a-532c8f441d1d",
   "metadata": {},
   "source": [
    "3. Se seleccionan los puntos y se muestra la distancia real entre los puntos"
   ]
  },
  {
   "cell_type": "markdown",
   "id": "165b1aa7-e416-482f-a3fd-30604c971282",
   "metadata": {
    "tags": []
   },
   "source": [
    "<table>\n",
    "    <tr>\n",
    "        <td> <img src=\"./img/seleccionado-1-punto.png\" style=\"width:90%\">\n",
    "        </td>\n",
    "        <td> <img src=\"./img/seleccionados-2-puntos.png\" style=\"width:90%\">\n",
    "        </td>\n",
    "    </tr>\n",
    "    <tr>\n",
    "        <td> <em>Seleccionado el primer punto</em> </td>\n",
    "        <td> <em>Seleccionado el segundo punto</em> </td>\n",
    "    </tr>\n",
    "</table>"
   ]
  },
  {
   "cell_type": "markdown",
   "id": "ab681967-808a-4647-9bf4-eab5352b2b67",
   "metadata": {},
   "source": [
    "Se puede observar como se muestra la distancia entre el 0 y el 5 de la regla, lo que da 5 centímetros (pone 50 porque las coordenadas estaban en milímetros).\n",
    "\n",
    "Es dificil atinar al punto exacto, por lo que se suelen obtener medidas aproximadas, como en el ejemplo que indica 50.95 en vez de 50.0 ."
   ]
  },
  {
   "cell_type": "markdown",
   "id": "2d1acaa7-4f31-4895-889e-c185b88f6844",
   "metadata": {},
   "source": [
    "## Teoría utilizada"
   ]
  },
  {
   "cell_type": "markdown",
   "id": "1f32023b-6a20-4482-b907-d0fda1d8a03f",
   "metadata": {},
   "source": [
    "Para realizar el programa, ha sido necesario entender las coordenadas homogéneas, cuya explicación se encuentra en [coordhomog.ipynb](https://github.com/albertoruiz/umucv/blob/96a0e8bcc9e95151c309ac48f743e4fd8a90a77c/notebooks/coordhomog.ipynb), y el funcionamiento de las homografías, cuya explicación se encuentra en [transf2D.ipynb](https://github.com/albertoruiz/umucv/blob/96a0e8bcc9e95151c309ac48f743e4fd8a90a77c/notebooks/transf2D.ipynb)"
   ]
  },
  {
   "cell_type": "markdown",
   "id": "36449633-4680-42cb-b173-c02b413bf874",
   "metadata": {},
   "source": [
    "## Bibliografía usada"
   ]
  },
  {
   "cell_type": "markdown",
   "id": "d262316b-8957-4f3f-bb96-a73bc1632a53",
   "metadata": {},
   "source": [
    "[Apuntes de la asignatura](https://github.com/albertoruiz/umucv)\n",
    "\n",
    "[función *open*](https://docs.python.org/3/library/functions.html#open)"
   ]
  }
 ],
 "metadata": {
  "kernelspec": {
   "display_name": "Python 3 (ipykernel)",
   "language": "python",
   "name": "python3"
  },
  "language_info": {
   "codemirror_mode": {
    "name": "ipython",
    "version": 3
   },
   "file_extension": ".py",
   "mimetype": "text/x-python",
   "name": "python",
   "nbconvert_exporter": "python",
   "pygments_lexer": "ipython3",
   "version": "3.11.5"
  }
 },
 "nbformat": 4,
 "nbformat_minor": 5
}
