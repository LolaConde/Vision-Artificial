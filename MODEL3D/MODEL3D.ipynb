{
 "cells": [
  {
   "cell_type": "markdown",
   "metadata": {},
   "source": [
    "# MODEL3D"
   ]
  },
  {
   "cell_type": "markdown",
   "metadata": {},
   "source": [
    "- [Enunciado](#enunciado)\n",
    "- [Elección del modelo](#elección-del-modelo)\n",
    "- [Creación del modelo](#creación-del-modelo)\n",
    "- [Bibliografía](#Bibliografía)"
   ]
  },
  {
   "cell_type": "markdown",
   "metadata": {},
   "source": [
    "## Enunciado"
   ]
  },
  {
   "cell_type": "markdown",
   "metadata": {},
   "source": [
    "Utiliza alguna de las herramientas [colmap](https://colmap.github.io/) o [meshroom](https://meshroom-manual.readthedocs.io/en/latest/) para construir un modelo 3D de un objeto."
   ]
  },
  {
   "cell_type": "markdown",
   "metadata": {},
   "source": [
    "## Elección del modelo"
   ]
  },
  {
   "cell_type": "markdown",
   "metadata": {},
   "source": [
    "Se ha elegido la herramienta COLMAP para realizar el modelo, y meshLab para visualizarlo.\n",
    "\n",
    "Se han realizado fotografías a un objeto desde diferentes ángulos, de forma que se pueda reconstruir el objeto en 3D. A continuación, se ha creado el modelo 'sparse model' con COLMAP, utilizando las imágenes tomadas anteriormente. Esto ha generado un modelo.\n",
    "\n",
    "Después, se ha intentado realizar el modelo 'dense model' con COLMAP, pero esto no se ha logrado ya que la aplicación no ha devuelto ningún resultado (se ha realizado múltiples veces, se ha probado con otro objeto, y con el database que se ofrece en la página de COLMAP, pero sigue sin dar resultado). \n",
    "\n",
    "Por esta razón, se cree que por motivos de la capacidad del ordenador, no se puede crear un modelo 'dense model'. Para poder mostrar un modelo, se ha utilizado el modelo 'sparse model', aunque este no es tan completo al tratarse de puntos en lugar de una figura completa."
   ]
  },
  {
   "cell_type": "markdown",
   "metadata": {},
   "source": [
    "## Creación del modelo"
   ]
  },
  {
   "cell_type": "markdown",
   "metadata": {},
   "source": [
    "Se ha elegido una araña porque es un objeto sencillo con formas definidas, de forma que el programa pueda identificar bien los puntos en común entre las imágenes."
   ]
  },
  {
   "cell_type": "markdown",
   "metadata": {},
   "source": [
    "Con las fotografías tomadas, se ha creado el siguiente modelo:"
   ]
  },
  {
   "cell_type": "markdown",
   "metadata": {},
   "source": [
    "<div style=\"display:flex;\">\n",
    "    <img src=\"modelo.png\" style=\"width:20%;\">\n",
    "    <img src=\"modelo-arriba.png\" style=\"width:20%;\">\n",
    "    <img src=\"lado-modelo.png\" style=\"width:20%;\">\n",
    "    <img src=\"cara-modelo.png\" style=\"width:20%\">\n",
    "    <img src=\"atras-modelo.png\" style=\"width:20%;\">\n",
    "</div>"
   ]
  },
  {
   "cell_type": "markdown",
   "metadata": {},
   "source": [
    "El modelo se ve bien desde arriba. Sin embargo, si se ve desde el lado, no se aprecia bien la forma de la araña (en especial las patas de la izquierda y la cara). Desde atrás se observa bien la forma del cuerpo de la araña."
   ]
  },
  {
   "cell_type": "markdown",
   "metadata": {},
   "source": [
    "Si se quiere observar el modelo, este se encuentra con el nombre *modelo.ply*."
   ]
  },
  {
   "cell_type": "markdown",
   "metadata": {},
   "source": [
    "## Bibliografía"
   ]
  },
  {
   "cell_type": "markdown",
   "metadata": {},
   "source": [
    "[COLMAP](https://colmap.github.io/)\n",
    "\n",
    "[instalación COLMAP](https://github.com/colmap/colmap/releases)\n",
    "\n",
    "[Video sobre uso de COLMAP](https://www.youtube.com/watch?v=mUDzWCuopBo)"
   ]
  }
 ],
 "metadata": {
  "kernelspec": {
   "display_name": "Python 3 (ipykernel)",
   "language": "python",
   "name": "python3"
  },
  "language_info": {
   "codemirror_mode": {
    "name": "ipython",
    "version": 3
   },
   "file_extension": ".py",
   "mimetype": "text/x-python",
   "name": "python",
   "nbconvert_exporter": "python",
   "pygments_lexer": "ipython3",
   "version": "3.11.5"
  }
 },
 "nbformat": 4,
 "nbformat_minor": 4
}
