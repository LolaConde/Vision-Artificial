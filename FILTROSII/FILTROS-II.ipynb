{
 "cells": [
  {
   "cell_type": "markdown",
   "id": "02815806-983b-46e6-aff0-17997ce598f9",
   "metadata": {},
   "source": [
    "# FILTROS II"
   ]
  },
  {
   "cell_type": "markdown",
   "id": "0ce76311-d800-4396-807c-6b61ace0df61",
   "metadata": {},
   "source": [
    "## Índice"
   ]
  },
  {
   "cell_type": "markdown",
   "id": "93676387-2bc4-44d6-8e42-51a710ed5947",
   "metadata": {
    "tags": []
   },
   "source": [
    "[Enunciado](#Enunciado)\n",
    "\n",
    "[Apartado a](#Apartado-a)\n",
    "\n",
    "[Apartado b](#Apartado-b)\n",
    "\n",
    "[Apartado c](#Apartado-c)\n",
    "\n",
    "[Apartado d](#Apartado-d)"
   ]
  },
  {
   "cell_type": "markdown",
   "id": "b177d9e6-09d1-46a3-9dee-a0cfc08a2ee4",
   "metadata": {
    "tags": []
   },
   "source": [
    "## Enunciado"
   ]
  },
  {
   "cell_type": "markdown",
   "id": "831812be-2631-4f65-93ba-1c921e51ea51",
   "metadata": {
    "tags": []
   },
   "source": [
    "**a.** Comprueba la propiedad de \"cascading\" del filtro gaussiano.\n",
    "\n",
    "**b.** Comprueba la propiedad de \"separabilidad\" del filtro gaussiano. \n",
    "\n",
    "**c.** Implementa en Python dede cero (usando bucles) el algoritmo de convolución con una máscara general y compara su eficiencia con la versión de OpenCV. \n",
    "\n",
    "**c.** Impleméntalo en C y haz un \"wrapper\" para utilizarlo desde Python (consulta al profesor). \n",
    "\n",
    "**d)** Implementa el box filter con la imagen integral."
   ]
  },
  {
   "cell_type": "code",
   "execution_count": null,
   "id": "7ce4f9fa-7d81-4f0b-90e4-1fc64926e9e2",
   "metadata": {
    "tags": []
   },
   "outputs": [],
   "source": [
    "# Librerías usadas\n",
    "import numpy             as np\n",
    "import cv2               as cv\n",
    "import matplotlib.pyplot as plt\n",
    "import scipy.signal      as signal\n",
    "import time"
   ]
  },
  {
   "cell_type": "markdown",
   "id": "d41fb2f8-04cb-4c67-935e-9092d6c866b5",
   "metadata": {
    "tags": []
   },
   "source": [
    "## Apartado a"
   ]
  },
  {
   "cell_type": "markdown",
   "id": "8d9a4818-28f3-4015-b8c2-da4a817ac83e",
   "metadata": {},
   "source": [
    "La propiedad cascading se refiere a que, a medida que se aplican filtros gaussianos a una imagen de forma consecutiva, esta cada vez se va suavizando más. Se procede a mostrar su funcionamiento mediante un código en Python que aplica el filtro gaussiano (con el mismo kernel) a una imagen de forma consecutiva:"
   ]
  },
  {
   "cell_type": "code",
   "execution_count": null,
   "id": "699e1383-6140-4a37-8050-1218f3fc3643",
   "metadata": {
    "tags": []
   },
   "outputs": [],
   "source": [
    "import math\n",
    "\n",
    "# Se crea la máscara de filtro gaussiano\n",
    "mascara = np.array([[1,2,1],[2,4,2],[1,2,1]])\n",
    "mascara = mascara/np.sum(mascara)\n",
    "\n",
    "# Se lee la imagen y se pasa a escala de grises\n",
    "imagen = cv.imread('./foto.png')\n",
    "imagen = cv.cvtColor(imagen, cv.COLOR_BGR2GRAY)\n",
    "\n",
    "# Bucle para mostrar las imágenes a las que se le aplican 0..(n-1) filtros gaussianos\n",
    "imagenplot = imagen\n",
    "n = 9\n",
    "num_filas = math.ceil(math.sqrt(n))\n",
    "num_columnas = math.ceil(n / num_filas)\n",
    "plt.figure(figsize=(num_columnas * 6, num_filas * 4))\n",
    "\n",
    "for i in range(n):\n",
    "    plt.subplot(num_filas, num_columnas, i + 1)\n",
    "    plt.imshow(imagenplot, cmap='gray')\n",
    "    if i == 0:\n",
    "        plt.title(\"Imagen sin filtros\")\n",
    "    else:\n",
    "        plt.title(f'Imagen aplicados {i} filtros gaussianos')\n",
    "    plt.axis('off')\n",
    "    imagenplot = cv.filter2D(imagenplot,-1,mascara)\n",
    "plt.show()\n"
   ]
  },
  {
   "cell_type": "markdown",
   "id": "ac78c0c4-03ea-48e3-bd70-b36dc146c0d0",
   "metadata": {},
   "source": [
    "Como se puede observar, cuando se van aplicando filtros, se va suavizando la imagen. Esto se corresponde con lo dicho con anterioridad.\n",
    "\n",
    "Se puede modificar el número de imágenes mostradas modificando el valor de n."
   ]
  },
  {
   "cell_type": "markdown",
   "id": "3e6f93d9-00dc-475d-af87-e2bc62e5952c",
   "metadata": {
    "tags": []
   },
   "source": [
    "## Apartado b"
   ]
  },
  {
   "cell_type": "markdown",
   "id": "cceefbe6-8046-4252-82b5-d726f7331b81",
   "metadata": {},
   "source": [
    "El filtro gaussiano sirve para suavizar una imagen. Este se puede aplicar mediante una máscara de 3x3, de forma que se suaviza tomando en cuenta los vecinos del píxel.\n",
    "\n",
    "Sin embargo, este también se puede aplicar mediante dos máscaras, una de 3x1 y otra de 1x3, de forma que en primer lugar los píxeles se mezclan con sus vecinos en vertical, y después su resultado mezcla sus vecinos en horizontal (o viceversa). Esto es la propiedad de separabilidad, las máscaras en 2 dimensiones aplicadas a una imagen también se pueden aplicar usando dos máscaras de 1 dimensión a la imagen de forma consecutiva. \n",
    "\n",
    "Se muestra de forma gráfica para que se entienda mejor. La siguiente máscara es una máscara 3x3 que aplica el filtro gaussiano (se multiplica por 1/16 porque la suma de los valores de la máscara es $1*4+2*4+4=16$):"
   ]
  },
  {
   "cell_type": "markdown",
   "id": "64666fbd-1668-4f32-ab29-38879c8df2fa",
   "metadata": {
    "tags": []
   },
   "source": [
    "\\begin{equation}\n",
    "\\frac{1}{16}*\\begin{pmatrix}\n",
    "1 & 2 & 1\\\\\n",
    "2 & 4 & 2\\\\\n",
    "1 & 2 & 1\n",
    "\\end{pmatrix} = \\begin{pmatrix}\n",
    "\\frac{1}{16} & \\frac{1}{8} & \\frac{1}{16}\\\\\n",
    "\\frac{1}{8} & \\frac{1}{4} & \\frac{1}{8}\\\\\n",
    "\\frac{1}{16} & \\frac{1}{8} & \\frac{1}{16}\n",
    "\\end{pmatrix}\n",
    "\\end{equation}"
   ]
  },
  {
   "cell_type": "markdown",
   "id": "9bc12b25-b3aa-401c-b559-8d7afb5d1a37",
   "metadata": {
    "tags": []
   },
   "source": [
    "Si se aplican las siguientes máscaras sobre la imagen, se genera el mismo resultado (se multiplica por $1/4$ por la misma razón que antes se multiplicaba por $1/16$, y es que los valores de las máscaras son $1*2+2=4$):"
   ]
  },
  {
   "cell_type": "markdown",
   "id": "8fce0468-3f43-4144-b4f7-47e328d17b8b",
   "metadata": {
    "tags": []
   },
   "source": [
    "\\begin{equation}\n",
    "\\frac{1}{4}*\\begin{pmatrix}\n",
    "1\\\\\n",
    "2\\\\\n",
    "1\n",
    "\\end{pmatrix} = \\begin{pmatrix}\n",
    "\\frac{1}{4}\\\\\n",
    "\\frac{1}{2}\\\\\n",
    "\\frac{1}{4}\n",
    "\\end{pmatrix}\\end{equation}\n",
    "\n",
    "\\begin{equation}\n",
    "\\frac{1}{4}*\\begin{pmatrix}\n",
    "1 & 2 & 1\n",
    "\\end{pmatrix} = \\begin{pmatrix}\n",
    "\\frac{1}{4} & \\frac{1}{2} & \\frac{1}{4}\n",
    "\\end{pmatrix}\n",
    "\\end{equation}"
   ]
  },
  {
   "cell_type": "markdown",
   "id": "443028d8-3040-45fa-9f9e-3e1528eb2cdf",
   "metadata": {
    "tags": []
   },
   "source": [
    "Esto ocurre porque \\begin{equation} \\begin{pmatrix}\n",
    "\\frac{1}{4}\\\\\n",
    "\\frac{1}{2}\\\\\n",
    "\\frac{1}{4}\n",
    "\\end{pmatrix} * \\begin{pmatrix}\n",
    "\\frac{1}{4} & \\frac{1}{2} & \\frac{1}{4}\n",
    "\\end{pmatrix} = \\begin{pmatrix}\n",
    "\\frac{1}{16} & \\frac{1}{8} & \\frac{1}{16}\\\\\n",
    "\\frac{1}{8} & \\frac{1}{4} & \\frac{1}{8}\\\\\n",
    "\\frac{1}{16} & \\frac{1}{8} & \\frac{1}{16}\n",
    "\\end{pmatrix}\n",
    "\\end{equation}"
   ]
  },
  {
   "cell_type": "markdown",
   "id": "34d12819-1841-4a1b-8428-501d8bcbc2a8",
   "metadata": {},
   "source": [
    "Se aplica el filtro con la máscara de 3x3 y con las otras máscaras a una imagen, y se comprueba si da lo mismo:"
   ]
  },
  {
   "cell_type": "code",
   "execution_count": null,
   "id": "cd10c36d-a210-4a87-8328-71c9f64c71d7",
   "metadata": {
    "tags": []
   },
   "outputs": [],
   "source": [
    "# Se lee la imagen y se pasa a escala de grises\n",
    "imagen = cv.imread('./foto.png')\n",
    "imagen = cv.cvtColor(imagen, cv.COLOR_BGR2GRAY)\n",
    "\n",
    "# Se aplica la máscara 3x3\n",
    "mascara3x3 = np.array([[1,2,1],[2,4,2],[1,2,1]])\n",
    "mascara3x3 = mascara3x3/np.sum(mascara3x3)\n",
    "imagen_3x3 = cv.filter2D(imagen,-1,mascara3x3)\n",
    "\n",
    "# Se aplican las máscaras 3x1 y 1x3\n",
    "mascara1 = np.array([[1],[2],[1]])\n",
    "mascara1 = mascara1/np.sum(mascara1)\n",
    "mascara2 = np.array([1,2,1])\n",
    "mascara2 = mascara2/np.sum(mascara2)\n",
    "imagen_2_mascaras = cv.filter2D(cv.filter2D(imagen, -1, mascara1),-1,mascara2)\n",
    "\n",
    "# Se mira la máxima diferencia:\n",
    "iguales = np.equal(imagen_2_mascaras,imagen_3x3)\n",
    "imagen_h, imagen_w = imagen.shape\n",
    "maxima_diferencia = 0\n",
    "for i in range(0,imagen_h-1):\n",
    "    for j in range(0,imagen_w-1):\n",
    "        if (iguales[i,j] == False):\n",
    "            diferencia = abs(int(imagen_2_mascaras[i,j]) - int(imagen_3x3[i,j]))\n",
    "            if diferencia < 0: \n",
    "                diferencia = - diferencia\n",
    "            if diferencia > maxima_diferencia: \n",
    "                maxima_diferencia = diferencia\n",
    "                #print(\"No son iguales, tienen diferencia de \", diferencia, \" se diferencian en i =\", i, \" j = \", j, \"por que tienen valores \", imagen_2_mascaras[i,j], \" y \", imagen_3x3[i,j])\n",
    "print(\"La máxima diferencia es:\", maxima_diferencia)"
   ]
  },
  {
   "cell_type": "code",
   "execution_count": null,
   "id": "580ae080-a045-4e1b-9893-2d0fa09dde3c",
   "metadata": {
    "tags": []
   },
   "outputs": [],
   "source": [
    "# Se dibujan las imágenes obtenidas\n",
    "plt.figure(figsize=(12,4))\n",
    "plt.subplot(1,2,1); plt.imshow(imagen_3x3, cmap='gray'); plt.axis(\"off\"); plt.title(\"3x3\");\n",
    "plt.subplot(1,2,2); plt.imshow(imagen_2_mascaras, cmap='gray'); plt.axis(\"off\"); plt.title(\"2 máscaras\")"
   ]
  },
  {
   "cell_type": "markdown",
   "id": "59538174-d143-4dcd-ad46-7ec604a62caf",
   "metadata": {},
   "source": [
    "Como se ha podido observar, la propiedad de separabilidad no se ha podido demostrar ya que las imágenes una vez aplicados los filtros no eran iguales."
   ]
  },
  {
   "cell_type": "markdown",
   "id": "30722a23-f109-4e42-989e-97bd1e2bbac9",
   "metadata": {
    "tags": []
   },
   "source": [
    "## Apartado c"
   ]
  },
  {
   "cell_type": "markdown",
   "id": "d8e67261-dfa0-489f-8739-58ecb3ac1487",
   "metadata": {},
   "source": [
    "En primer lugar, se implementa el algoritmo de convolución con una máscara general (array de numpy):"
   ]
  },
  {
   "cell_type": "code",
   "execution_count": null,
   "id": "d423f7a2-9e5d-4cad-890a-930aa63b8176",
   "metadata": {
    "tags": []
   },
   "outputs": [],
   "source": [
    "def conv(img, array):\n",
    "    H,W = img.shape\n",
    "    resultado = img.copy()\n",
    "    array_h, array_w = array.shape\n",
    "    array_mitad_h = (array_h-1)//2\n",
    "    array_mitad_w = (array_w-1)//2\n",
    "    \n",
    "    # Recorre todos los píxeles de la imagen\n",
    "    for h in range(0,H-1):\n",
    "        for w in range(0,W-1):\n",
    "            # Por cada píxel\n",
    "            pixel_resultante = 0\n",
    "            # Recorre los vecinos del píxel (array)\n",
    "            for vecino_h in range(-array_mitad_h,array_mitad_h+1): \n",
    "                for vecino_w in range(-array_mitad_w,array_mitad_w+1):\n",
    "                    # Posición del vecino en la imagen: [i, j]\n",
    "                    i = vecino_h+h \n",
    "                    j = vecino_w+w\n",
    "                    # Si se ha salido de la imagen, se coge el píxel del borde de la imagen\n",
    "                    if i < 0:\n",
    "                        i = 0\n",
    "                    elif i >= H:\n",
    "                        i = H-1\n",
    "                    if j < 0:\n",
    "                        j = 0\n",
    "                    elif j >= W:\n",
    "                        j = W-1\n",
    "                    # pixel_resultante += El valor del píxel vecino en la imagen por el valor que tiene ese vecino en la máscara\n",
    "                    pixel_resultante +=  img[i,j]*array[vecino_h+array_mitad_h][vecino_w+array_mitad_w]\n",
    "            resultado[h,w] = pixel_resultante\n",
    "    return resultado\n"
   ]
  },
  {
   "cell_type": "markdown",
   "id": "d6568ff0-6a77-4cb7-b95a-46efa67615e8",
   "metadata": {},
   "source": [
    "Se ha realizado el filtro dando por hecho que la imagen sólo tiene un valor por píxel (blanco y negro) para que la multiplicación de cada píxel por el valor que corresponda de la máscara se realice de forma sencilla. A su vez, también se ha dado por hecho que las filas y columnas del array de entrada (máscara) son impares.\n",
    "\n",
    "Se realiza un bucle por todos los píxeles de la imagen, y se le asigna a cada píxel la suma de los valores de los vecinos (y del píxel en sí) por el valor de la posición de cada uno en el array de la máscara. Si un vecino no existe (píxel en el borde de la imagen), se coje el píxel más cercano a este."
   ]
  },
  {
   "cell_type": "markdown",
   "id": "80c1e16b-de8f-497b-889a-5dfecae5a989",
   "metadata": {},
   "source": [
    "Una vez implementado, se ejecuta con una imagen y una máscara. Se presenta la imagen original a la izquierda para que se vea el efecto del filtro.\n",
    "\n",
    "Se ha utilizado un filtro de los [apuntes de la asignatura](https://github.com/albertoruiz/umucv) ya que se ha considerado interesante el efecto de este, al verse de forma rápida si el filtro realiza lo que debería."
   ]
  },
  {
   "cell_type": "code",
   "execution_count": null,
   "id": "69f6f855-f7ac-40ec-89c6-4d46230c6ad7",
   "metadata": {
    "tags": []
   },
   "outputs": [],
   "source": [
    "# Se lee la imagen y se pasa a escala de grises\n",
    "imagen = cv.imread('./foto.png')\n",
    "imagen = cv.cvtColor(imagen, cv.COLOR_BGR2GRAY)\n",
    "\n",
    "# Se crea la máscara (ker) sacada de los apuntes de la asignatura\n",
    "ker = np.zeros([11,11])\n",
    "ker[0,0] = 1\n",
    "ker[10,10] = 1\n",
    "ker = ker/np.sum(ker)\n",
    "\n",
    "# Se dibujan la imagen sin modificar en blanco y negro (izquierda), y la imagen pasada por el algoritmo de convolución (derecha)\n",
    "plt.figure(figsize=(12,4))\n",
    "plt.subplot(1,2,1); plt.imshow(imagen, cmap='gray'); plt.axis(\"off\");\n",
    "plt.subplot(1,2,2); plt.imshow(conv(imagen, ker), cmap='gray'); plt.axis(\"off\")"
   ]
  },
  {
   "cell_type": "markdown",
   "id": "63a7958a-5672-4ab9-930c-87c576af6854",
   "metadata": {},
   "source": [
    "Se calcula el tiempo que tarda en ejecutarse el algoritmo de convolución con la imagen y la máscara anteriores, tanto con el algoritmo creado (conv) como con el ofrecido por OpenCV:"
   ]
  },
  {
   "cell_type": "code",
   "execution_count": null,
   "id": "65159743-6a93-46e3-87b2-dbdc79eb5dd1",
   "metadata": {
    "tags": []
   },
   "outputs": [],
   "source": [
    "inicio = time.time()\n",
    "conv(imagen, ker)\n",
    "fin = time.time()\n",
    "print(\"Tiempo del algoritmo implementado = \", fin-inicio)\n",
    "\n",
    "inicio = time.time()\n",
    "cv.filter2D(imagen,-1,ker)\n",
    "fin = time.time()\n",
    "print(\"Tiempo del algoritmo de OpenCV = \", fin-inicio)"
   ]
  },
  {
   "cell_type": "markdown",
   "id": "5a69e935-7c26-4b9b-b836-8c0a1d8fa8ee",
   "metadata": {},
   "source": [
    "Considerando que el tiempo de ejecución puede variar según múltiples factores como el hardware, indico los tiempos que me indicó al ejecutar la versión implementada por mí y la de OpenCV para poder comentarlo.\n",
    "\n",
    "Mi implementación tardó 35.3 segundos, en contraste de la versión de OpenCV que indicó 0.0.\n",
    "\n",
    "Esto proporciona una idea de lo importante que son las librerías de código en la programación, dado que estas se encuentran muy optimizadas (sobre todo las populares)."
   ]
  },
  {
   "cell_type": "markdown",
   "id": "cbdb305d-0c34-4e6c-82d2-f5b065938c65",
   "metadata": {},
   "source": [
    "# Apartado d"
   ]
  },
  {
   "cell_type": "markdown",
   "id": "014b699d-ee27-498a-b848-5a7c8c3129f3",
   "metadata": {
    "tags": []
   },
   "source": [
    "Para este apartado, me he basado en la explicación del siguiente vídeo de youtube https://www.youtube.com/watch?v=5ceT8O3k6os, que explica qué son las imágenes integrales de forma muy clara y concisa (5 minutos, 28 segundos)."
   ]
  },
  {
   "cell_type": "markdown",
   "id": "3fa73892-02ed-48ad-93a2-05f51122e3d4",
   "metadata": {},
   "source": [
    "Las **imágenes integrales** se calculan a partir de las imágenes. Cada píxel de la imagen integral tiene como valor la suma de todos los valores de los píxeles superiores (y misma fila) y a la derecha (y misma columna) de este píxel en la imagen original."
   ]
  },
  {
   "cell_type": "markdown",
   "id": "72ff0855-1b96-40db-87ea-381887dc0f3e",
   "metadata": {},
   "source": [
    "De esta forma, se procede a hacer un método que calcule la imagen integral a partir de la imagen original (como en casos anteriores, se supone una imagen en escala de grises)."
   ]
  },
  {
   "cell_type": "code",
   "execution_count": null,
   "id": "a0ee8d8b-6794-4850-b74d-ba8ce92c57a3",
   "metadata": {
    "tags": []
   },
   "outputs": [],
   "source": [
    "def integral(imagen):\n",
    "    integral = np.zeros_like(imagen, np.int64)\n",
    "    H, W = imagen.shape\n",
    "    # h=0\n",
    "    integral[0,0] = imagen[0,0]\n",
    "    for w in range(1,W):\n",
    "        integral[0,w] = integral[0,w-1] + imagen[0,w]\n",
    "    # w=0\n",
    "    for h in range(1,H):\n",
    "        integral[h,0] = integral[h-1,0] + imagen[h,0]\n",
    "    # h!=0 w!=0\n",
    "    for h in range(1,H):\n",
    "        for w in range(1, W):\n",
    "            integral[h,w] = integral[h-1,w] + integral[h,w-1] - integral[h-1, w-1] + imagen[h,w]\n",
    "    return integral"
   ]
  },
  {
   "cell_type": "markdown",
   "id": "d665765b-d8cd-4f5e-b0b3-039325285f42",
   "metadata": {},
   "source": [
    "Se ha seguido un método donde primero se calculan los píxeles con h=0 y con w=0, ya que estos son la suma de ese píxel en la imagen original más el anterior ya calculado en la fila/columna. Se enseña una imagen para mejor comprensión:\n",
    "\n",
    "<img src=\"./imagen-integral-1.png\" style=\"width:25%\"></img>"
   ]
  },
  {
   "cell_type": "markdown",
   "id": "cbc40201-dceb-4ba9-b6be-f3a71688526b",
   "metadata": {},
   "source": [
    "En la imagen integral, el valor del píxel 1 es el píxel 1 en la imagen original, el píxel 2 es la suma del 1 y 2 de la imagen original (píxel 2 en la original y 1 del integral), el píxel 3 es la suma del 1, 2 y 3 (es decir, la suma del píxel 2 en la integral y del 1 en la original), ...\n",
    "\n",
    "A su vez, el valor del píxel 8 en la integral es el valor del pixel 1 y el 8 en la original, el valor del píxel 9 en la integral es el valor del píxel 9 en la original y del 8 en la integral, ...\n",
    "\n",
    "Por esta razón se ha usado dos bucles para calcular estas primera fila/columna, sumando el píxel de la original y el anterior de la integral."
   ]
  },
  {
   "cell_type": "markdown",
   "id": "f2f12843-831c-44c7-a274-6a786a8d10c5",
   "metadata": {},
   "source": [
    "Posteriormente, se ha pasado al resto de la imagen. Para calcular estos píxeles se usa el valor de los píxeles de el de arriba, el de la izquierda, y el de arriba a la izquierda. Como se hace después de calcular la primera fila y columna, estos píxeles siempre van a existir en la imagen."
   ]
  },
  {
   "cell_type": "markdown",
   "id": "cbaa9971-b45d-405f-ab0c-681df39f06ef",
   "metadata": {
    "tags": []
   },
   "source": [
    "Se hace un dibujo para que se entienda mejor:\n",
    "\n",
    "<img src=\"./imagen-integral-2.png\" style=\"width:25%\"></img>"
   ]
  },
  {
   "cell_type": "markdown",
   "id": "ae49bc9a-b218-481b-afe4-ec70ece49f4f",
   "metadata": {},
   "source": [
    "El valor del píxel amarillo en la imagen integral es la suma de todos los valores de los píxeles coloreados que aparecen, en la imagen original. \n",
    "\n",
    "Para hacer esto, en primer lugar se hace un bucle de arriba a abajo y de izquierda a derecha, de modo que se tengan los píxeles de arriba y de la izquierda ya calculados en la imagen integral para calcular el siguiente píxel de esta imagen integral.\n",
    "\n",
    "Dentro del bucle, para cada píxel, se hace la suma del píxel de encima en la imagen integral (es la suma de los valores de los píxeles morados) y del píxel de la izquierda en la imagen integral (es la suma de los valores de los píxeles azules). Esto genera que los píxeles tanto morados como azules se hayan sumados dos veces, por lo que se resta el píxel de arriba a la izquierda en la imagen integral (es la suma de los píxeles en naranja, que como se ve también son los píxeles azules y morados que se han sumados dos veces)."
   ]
  },
  {
   "cell_type": "markdown",
   "id": "1ef2c97a-bfd3-42eb-8412-e091f38ecf2b",
   "metadata": {},
   "source": [
    "Una vez obtenida la imagen integral, se debe de hacer el **filtro box** con la imagen integral. El filtro box puede tener un número variables de filas y columnas, por lo que se va a implementar de forma que se puedan indicar las filas y columnas de la imagen (deben ser ambas impares)."
   ]
  },
  {
   "cell_type": "code",
   "execution_count": null,
   "id": "641d283a-b18c-4a38-8148-fec72f6e0dc1",
   "metadata": {
    "tags": []
   },
   "outputs": [],
   "source": [
    "# Se pasan como parámetro las filas, columnas, y la imagen integral\n",
    "def filtroBox(imagen, filas, columnas):\n",
    "    # Si el número de filas o columnas es par, devolver la imagen tal cual e indicar que el número de filas/columnas es par y esto no se puede\n",
    "    if filas%2 == 0 or columnas%2 == 0:\n",
    "        print(\"filas%2 == 0 or columnas%2 == 0\")\n",
    "        return imagen\n",
    "    imagenBox = np.zeros_like(imagen, np.uint8)\n",
    "    H, W = imagen.shape\n",
    "    for h in range(0, H):\n",
    "        for w in range(0,W):\n",
    "            fila_inicio = h+filas//2 # x + 1//2 = x\n",
    "            columna_inicio = w+columnas//2 # 506 + 1//2 = 506\n",
    "            fila_fin = fila_inicio - filas # x - 1\n",
    "            columna_fin = columna_inicio - columnas # 506 - 1 = 505\n",
    "            # Si la fila o columna del inicio están fuera de la imagen\n",
    "            if fila_inicio >= H:\n",
    "                fila_inicio = H-1\n",
    "            if columna_inicio >= W:\n",
    "                columna_inicio = W-1\n",
    "            # Si la fila o columna del fin están fuera de la imagen\n",
    "            if fila_fin < 0:\n",
    "                if columna_fin < 0:\n",
    "                    imagenBox[h,w] = imagen[fila_inicio, columna_inicio]\n",
    "                    imagenBox[h,w] = imagenBox[h,w]/((fila_inicio+1)*(columna_inicio+1))\n",
    "                else:\n",
    "                    imagenBox[h,w] = imagen[fila_inicio, columna_inicio] - imagen[fila_inicio, columna_fin]\n",
    "                    imagenBox[h,w] = imagenBox[h,w]/((fila_inicio+1)*(columna_inicio-columna_fin))\n",
    "            elif columna_fin < 0:\n",
    "                imagenBox[h,w] = imagen[fila_inicio, columna_inicio] - imagen[fila_fin, columna_inicio]\n",
    "                imagenBox[h,w] = imagenBox[h,w]/((fila_inicio-fila_fin)*(columna_inicio+1))\n",
    "            else:\n",
    "                imagenBox[h,w] = ((imagen[fila_inicio, columna_inicio] - imagen[fila_fin, columna_inicio] - imagen[fila_inicio, columna_fin] + imagen[fila_fin, columna_fin])/((fila_inicio-fila_fin)*(columna_inicio-columna_fin)))\n",
    "    return imagenBox"
   ]
  },
  {
   "cell_type": "markdown",
   "id": "e8412358-6980-4e0a-82be-a726be30c5cb",
   "metadata": {},
   "source": [
    "Para mostrar lo que hace el código, se muestra una imagen para que se vea de forma más clara:"
   ]
  },
  {
   "cell_type": "markdown",
   "id": "09d73860-ff8a-491a-8997-498c71e81004",
   "metadata": {
    "tags": []
   },
   "source": [
    "<img src=\"./imagen-integral-3.png\" style=\"width:25%\"></img>"
   ]
  },
  {
   "cell_type": "markdown",
   "id": "00d5f700-5ddb-4f6a-a269-5adfdd67b4aa",
   "metadata": {},
   "source": [
    "Para conseguir la suma de los valores alrededor del píxel amarillo (3 filas y 3 columnas), se debe obtener la suma de los valores que sólo tienen color azul (incluido el amarillo).\n",
    "\n",
    "Para ello, con la imagen integral, se accede al píxel número 1, y a su valor se le resta el valor del píxel 2 (suma de píxeles rosas) y del píxel 3 (suma de píxeles morados). De esta forma, se tiene que se han restado dos veces los valores en rojo, por lo que se vuelven a sumar estos valores (píxel 4).\n",
    "\n",
    "De esta forma, se han obtenido la suma de valores de los píxeles que sólo son azules. Esto es lo que se realiza en el código de *filtroBox*, y sus variables son:\n",
    "- *fila_inicio*: La fila de la casilla 1\n",
    "- *fila_fin*: La fila de la casilla 4\n",
    "- *columna_inicio*: Columna de la casilla 1\n",
    "- *columna_fin*: Columna de la casilla 4\n",
    "\n",
    "Una vez obtenidos estos valores, se calcula el valor de cada píxel mediante la suma/resta de 4 valores. Esto se puede extender a distintos valores de filas y columnas, obteniendo siempre el píxel 1 como el de la esquina derecha-abajo del retángulo requerido, el píxel 4 como la esquina arriba-izquierda de las afueras del rectángulo, y los píxeles 2 y 3 se obtienen sabiendo las filas y columnas de los píxeles 1 y 4.\n",
    "\n",
    "Sin embargo, se tienen las siguientes excepciones:\n",
    "- fila_inicio >= H: Si la fila de inicio está fuera de la imagen, se guarda como fila_inicio la última fila, de forma que se tiene un rectángulo más pequeño al estar pegado a los bordes\n",
    "- columna_inicio >= W: Si la columna de inicio está fuera de la imagen, se guarda como columna_inicio la última columna, y al igual que en el anterior caso, se tiene un rectángulo más pequeño al estar pegado a los bordes\n",
    "- fila_fin < 0: Si la fila de fin está fuera de la imagen, ya no se resta el píxel 2 (no hay valores que restar). Por esa misma razón, tampoco se suma el píxel 4.\n",
    "- columna_fin < 0: Si la columna de fin está fuera de la imagen, ya no se resta el píxel 3 (no hay valores que restar). Por esa misma razón, tampoco se suma el píxel 4.\n",
    "- fila_fin < 0 y columna_fin < 0: Simplemente se accede al valor del píxel 1\n",
    "\n",
    "Una vez sumado, se tiene que dividir por el número de píxeles. No es filas\\*columnas por haber píxeles cuyo rectángulo es más pequeño por estar en los bordes, por lo que es:\n",
    "- fila: El valor de la fila depende de la fila de fin:\n",
    "    - fila_fin < 0: Entonces, el tamaño en vertical del rectángulo de celdas sumadas es el valor de la fila de inicio (+1 por empezar a contar en 0)\n",
    "    - fila_fin >= 0: Entonces, el tamaño es la fila de inicio menos la fila de fin\n",
    "- columna: El valor de la columna depende de la columna de fin_\n",
    "    - columna_fin < 0: Ocurre lo mismo que con las filas. El tamaño en horizontal del rectángulo de celdas es el valor de la columna de inicio +1 (tambien se empieza a contar en 0).\n",
    "    - columna_fin >= 0: Entonces, el tamaño es la columna de inicio menos la de fin\n",
    "    \n",
    "Es importante recordar que la fila y columna de inicio se modificó para que estuviera dentro de la imagen."
   ]
  },
  {
   "cell_type": "markdown",
   "id": "4d96c7a0-32c8-4fe3-8cd6-c1b5a07b92ef",
   "metadata": {},
   "source": [
    "Una vez implementado el filtro box, se **muestra la imagen original y la pasada por el filtro** box (se hace con filas=5 y columnas=5, pero se puede modificar cambiando la línea en la que se aplica el filtro *filtroBox(integralImagen, 5,5)* modificando los dos últimos valores)."
   ]
  },
  {
   "cell_type": "code",
   "execution_count": null,
   "id": "5ad086a3-7b69-433d-9924-23c1d016ddc3",
   "metadata": {
    "tags": []
   },
   "outputs": [],
   "source": [
    "# Se lee la imagen y se pasa a escala de grises\n",
    "imagen = cv.imread('./foto.png')\n",
    "imagen = cv.cvtColor(imagen, cv.COLOR_BGR2GRAY)\n",
    "# Se obtiene la imagen integral y, se usa para obtener la imagen con el filtro de Box\n",
    "integralImagen = integral(imagen)\n",
    "filteredImagen = filtroBox(integralImagen, 5,5)\n",
    "\n",
    "# Se dibujan la imagen sin modificar en blanco y negro (izquierda), y la imagen con el filtro box aplicado (derecha)\n",
    "plt.figure(figsize=(12,4))\n",
    "plt.subplot(1,2,1); plt.imshow(imagen, cmap='gray'); plt.axis(\"off\");\n",
    "plt.subplot(1,2,2); plt.imshow(filteredImagen, cmap='gray'); plt.axis(\"off\")"
   ]
  },
  {
   "cell_type": "markdown",
   "id": "e2ecd962-67ae-426d-96d5-7ca4c8353a19",
   "metadata": {},
   "source": [
    "Por último, para **comprobar** que el filtro box **funciona de forma correcta**, se comprueba que la imagen original y la pasada por el filtro box con tamaño de fila y de columna 1 son iguales.\n",
    "\n",
    "Deben ser iguales porque el filtro box aplicado a una imagen da como valor en cada píxel la media de él y sus vecinos de la imagen original, y si se escoje 1 sola fila y columna, sólo se tiene en cuenta el pixel. Por ello, los valores de cada píxel en la imagen original y en la imagen a la que se aplicó el filtro box deben ser iguales."
   ]
  },
  {
   "cell_type": "code",
   "execution_count": null,
   "id": "f4c81f77-11e8-40d4-825f-6a45c95650e3",
   "metadata": {
    "tags": []
   },
   "outputs": [],
   "source": [
    "imagen = cv.imread('./foto.png')\n",
    "imagen = cv.cvtColor(imagen, cv.COLOR_BGR2GRAY)\n",
    "integralImagen = integral(imagen)\n",
    "filteredImagen = filtroBox(integralImagen, 1,1)\n",
    "np.equal(imagen,filteredImagen).all()"
   ]
  },
  {
   "cell_type": "markdown",
   "id": "0599d6fd-ee6d-4090-8069-d0d5edd0763c",
   "metadata": {},
   "source": [
    "*np.equal* devuelve un array de las mismas proporciones de los arrays pasados como parámetro donde si los valores correspondientes eran iguales en ambos arrays, en el devuelto hay True en esa posición, y si no, False. all sólo devuelve True si todos los valores del array son True. Si hay alguno a False, devuelve False.\n",
    "\n",
    "Al haber devuelto True, queda demostrado que las imágenes original, y pasada por el filtro box con fila y columna tamaño 1, son iguales."
   ]
  },
  {
   "cell_type": "markdown",
   "id": "e8a7bcf0-72e0-499f-9c52-369f4343e4ac",
   "metadata": {},
   "source": [
    "## Bibliografía"
   ]
  },
  {
   "cell_type": "markdown",
   "id": "7f9665c2-5216-4b6d-8e2d-d11d2c155b0a",
   "metadata": {},
   "source": [
    "[Apuntes de la asignatura](https://github.com/albertoruiz/umucv)\n",
    "\n",
    "[ChatGPT para saber usar math.ceil y plt.figure para hacer plots de un número de imágenes variables](https://chat.openai.com/)\n",
    "\n",
    "[Imágenes integrales](https://www.youtube.com/watch?v=5ceT8O3k6os)\n",
    "\n",
    "[Crear array con ceros](https://numpy.org/doc/stable/reference/generated/numpy.zeros_like.html)\n",
    "\n",
    "[np.equal](https://numpy.org/doc/stable/reference/generated/numpy.equal.html)\n",
    "\n",
    "[función all](https://www.geeksforgeeks.org/python-all-function/)"
   ]
  }
 ],
 "metadata": {
  "kernelspec": {
   "display_name": "Python 3 (ipykernel)",
   "language": "python",
   "name": "python3"
  },
  "language_info": {
   "codemirror_mode": {
    "name": "ipython",
    "version": 3
   },
   "file_extension": ".py",
   "mimetype": "text/x-python",
   "name": "python",
   "nbconvert_exporter": "python",
   "pygments_lexer": "ipython3",
   "version": "3.11.5"
  },
  "toc-autonumbering": false,
  "toc-showcode": false,
  "toc-showmarkdowntxt": false,
  "toc-showtags": false
 },
 "nbformat": 4,
 "nbformat_minor": 5
}
