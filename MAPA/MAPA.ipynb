{
 "cells": [
  {
   "cell_type": "markdown",
   "metadata": {},
   "source": [
    "# MAPA"
   ]
  },
  {
   "cell_type": "markdown",
   "metadata": {},
   "source": [
    "# Índice"
   ]
  },
  {
   "cell_type": "markdown",
   "metadata": {},
   "source": [
    "[Enunciado](#Enunciado)\n",
    "\n",
    "[FOV](#FOV)\n",
    "\n",
    "[Ángulo entre 2 puntos](#ángulo-entre-2-puntos)\n",
    "\n",
    "[Código](#código)\n",
    "\n",
    "[Cámara usada](#cámara-usada)\n",
    "\n",
    "[Jupyter notebook](#jupyter-notebook)\n",
    "\n",
    "[Bibliografía usada](#bibliografía-usada)"
   ]
  },
  {
   "cell_type": "markdown",
   "metadata": {},
   "source": [
    "## Enunciado\n",
    "\n",
    "Amplia el ejemplo `code/medidor.py` para convertir la distancia entre dos pixels marcados con el ratón en el ángulo que forman los rayos ópticos correspondientes, sabiendo el campo visual (FOV) de la cámara. Utiliza el script para encontrar mediante una construcción geométrica la posición aproximada en un mapa desde la que se ha tomado una imagen en la que se ven algunos puntos característicos."
   ]
  },
  {
   "cell_type": "markdown",
   "metadata": {},
   "source": [
    "## FOV"
   ]
  },
  {
   "cell_type": "markdown",
   "metadata": {},
   "source": [
    "En primer lugar, se va a calcular el FOV de la cámara dada su distancia focal. Para ello, se debe recordar la definición de campo visual y distancia focal. Se presenta un dibujo para que se comprenda mejor (en este caso, se ve el FOV horizontal):\n",
    "\n",
    "<img src=\"./img/semana2-triangulos.png\" style=\"width:40%\"/>\n",
    "\n",
    "Como se puede observar, la tangente de $\\frac{FOV}{2}$ es igual a $\\frac{w/2}{f}$ por la definición de tangente (en triángulos rectángulos, la tangente es la razón entre el cateto opuesto y el adyacente). De este modo, se obtiene la fórmula:\n",
    "\n",
    "$$tan\\left(\\frac{FOV_{horizontal}}{2}\\right) = \\frac{w/2}{f}$$\n",
    "\n",
    "Si se quiere calcular el FOV vertical, bastaría con cambiar el ancho de la imagen por el largo de esta. Serviría la fórmula anterior, siendo $w$ la altura en vez del ancho de la imagen.\n",
    "\n",
    "**Cálculos**\n",
    "\n",
    "Ya se tiene la distancia focal, que se calculó en el ejercicio HANDS, en el caso de mi cámara es 738 píxeles. Para despejar la fórmula es necesario indicar que la cámara toma fotografías de un ancho de 640 píxeles (w).\n",
    "\n",
    "$$tan\\left(\\frac{FOV}{2}\\right) = \\frac{w/2}{f} \\rightarrow FOV = arctan\\left(\\frac{w/2}{f}\\right)*2 = arctan\\left(\\frac{640/2}{738}\\right)*2 = 46.88\\degree$$\n",
    "\n",
    "Se obtiene un FOV horizontal de 46.88 grados.\n",
    "\n",
    "Ahora, se calculará el vertical (las fotografías tomadas por la cámara tienen un alto de 360 píxeles):\n",
    "\n",
    "$$tan\\left(\\frac{FOV}{2}\\right) = \\frac{w/2}{f} \\rightarrow FOV = arctan\\left(\\frac{w/2}{f}\\right)*2 = arctan\\left(\\frac{360/2}{738}\\right)*2 = 27.4\\degree$$\n",
    "\n",
    "Se obtiene un FOV vertical de 27.4 grados."
   ]
  },
  {
   "cell_type": "markdown",
   "metadata": {},
   "source": [
    "## Ángulo entre 2 puntos"
   ]
  },
  {
   "cell_type": "markdown",
   "metadata": {},
   "source": [
    "Para calcular el ángulo que forman los rayos ópticos correspondientes  a dos píxeles marcados con el ratón, se debe de tener en cuenta la imagen siguiente, perteneciente a los apuntes de la asignatura:\n",
    "\n",
    "<img src=\"./img/Imagen-angulo-puntos-material-asignatura.png\" style=\"width:40%\"/>\n",
    "\n",
    "Como se puede observar en la imagen, si se tiene la distancia focal, se puede obtener el vector que va hasta un punto de la imagen. Cogiendo el inicio del vector como (0,0,0), se tiene:\n",
    "\n",
    "- El desplazamiento en x: Es la coordenada x del punto en la imagen (en píxeles) menos la mitad del ancho de la imagen (en píxeles) ya que el inicio del vector se encuentra en el centro. \n",
    "- El desplazamiento en y: Se calcula de forma similar al anterior, con la coordenada en y del punto en la imagen menos la mitad del alto de la imagen (el inicio del vector se encuentra en el centro).\n",
    "- El desplazamiento en z: Es la distancia focal (en píxeles) de la imagen. \n",
    "\n",
    "Una vez obtenidos los dos vectores de dos puntos, se puede calcular el ángulo que estos forman con la fórmula siguiente:\n",
    "\n",
    "$$\\cos(\\alpha) = \\frac{\\vec{u} \\cdot \\vec{v}}{|\\vec{u}| |\\vec{v}|} \\rightarrow \\alpha = \\arccos{\\frac{\\vec{u} \\cdot \\vec{v}}{|\\vec{u}| |\\vec{v}|}}$$\n",
    "\n",
    "Y con todo esto, se obtiene el ángulo ($\\alpha$) entre los vectores (los rayos ópticos correspondientes a dos píxeles marcados con el ratón)."
   ]
  },
  {
   "cell_type": "markdown",
   "metadata": {},
   "source": [
    "## Código"
   ]
  },
  {
   "cell_type": "markdown",
   "metadata": {},
   "source": [
    "Se ha modificado el código de `medidor.py` para añadir una función que calcula el ángulo entre los vectores dados sus puntos en la imagen. Se ha almacenado en variables la distancia focal, el alto y el ancho de la cámara (en píxeles) de forma que se pueda calcular el ángulo de la forma anteriormente explicada.\n",
    "\n",
    "Después, se ha añadido al texto mostrando la distancia entre los puntos, los ángulos que estos forman."
   ]
  },
  {
   "cell_type": "markdown",
   "metadata": {},
   "source": [
    "## Cámara usada"
   ]
  },
  {
   "cell_type": "markdown",
   "metadata": {},
   "source": [
    "Al utilizar la distancia focal y el FOV de la cámara para realizar el ejercicio, es importante indicar la cámara que se utiliza. Se ha cogido como referencia la cámara de un portátil Acer Aspire 3."
   ]
  },
  {
   "cell_type": "markdown",
   "metadata": {},
   "source": [
    "## Jupyter notebook"
   ]
  },
  {
   "cell_type": "markdown",
   "metadata": {},
   "source": [
    "*Utiliza el script para encontrar mediante una construcción geométrica la posición aproximada en un mapa desde la que se ha tomado una imagen en la que se ven algunos puntos característicos.*\n",
    "\n",
    "Se ha realizado un notebook en el que se puede observar el cálculo de la posición desde la que se ha tomado una fotografía dados dos puntos característicos. Este notebook se encuentra en *ejercicioMAPA.ipynb*.\n",
    "\n",
    "Las imágenes que se encuentran en la carpeta *img* son imágenes usadas en el notebook."
   ]
  },
  {
   "cell_type": "markdown",
   "metadata": {},
   "source": [
    "## Bibliografía usada"
   ]
  },
  {
   "cell_type": "markdown",
   "metadata": {},
   "source": [
    "[Material de la asignatura](https://github.com/albertoruiz/umucv/blob/master/notebooks/imagen.ipynb)\n",
    "\n",
    "[Entender qué es la distancia focal](https://www.sony.es/electronics/support/articles/00267921)\n",
    "\n",
    "[Entender qué es un sensor](https://www.blogdelfotografo.com/tipos-caracteristicas-ventajas-sensores-camaras-fotos/)\n",
    "\n",
    "[Teorema de Thales](https://www.superprof.es/apuntes/escolar/matematicas/geometria/basica/triangulos-en-posicion-de-thales.html)\n",
    "\n",
    "[numpy dot](https://numpy.org/doc/stable/reference/generated/numpy.dot.html)\n",
    "\n",
    "[numpy norm](https://numpy.org/doc/stable/reference/generated/numpy.linalg.norm.html#numpy-linalg-norm)\n",
    "\n",
    "[numpy arccos](https://numpy.org/doc/stable/reference/generated/numpy.arccos.html)\n",
    "\n",
    "[numpy degrees](https://numpy.org/doc/stable/reference/generated/numpy.degrees.html)\n",
    "\n",
    "[numpy array](https://numpy.org/doc/stable/reference/generated/numpy.array.html)"
   ]
  }
 ],
 "metadata": {
  "kernelspec": {
   "display_name": "Python 3 (ipykernel)",
   "language": "python",
   "name": "python3"
  },
  "language_info": {
   "codemirror_mode": {
    "name": "ipython",
    "version": 3
   },
   "file_extension": ".py",
   "mimetype": "text/x-python",
   "name": "python",
   "nbconvert_exporter": "python",
   "pygments_lexer": "ipython3",
   "version": "3.11.5"
  }
 },
 "nbformat": 4,
 "nbformat_minor": 4
}
