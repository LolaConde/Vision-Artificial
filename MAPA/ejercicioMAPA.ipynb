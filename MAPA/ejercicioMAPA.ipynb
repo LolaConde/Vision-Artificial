{
 "cells": [
  {
   "cell_type": "markdown",
   "id": "855da96b",
   "metadata": {},
   "source": [
    "# MAPA"
   ]
  },
  {
   "cell_type": "markdown",
   "id": "d2927bb6",
   "metadata": {},
   "source": [
    "**Encuentra mediante una construcción geométrica la posición aproximada en un mapa desde la que se ha tomado una imagen en la que se ven algunos puntos característicos.**"
   ]
  },
  {
   "cell_type": "markdown",
   "id": "130a7dfa",
   "metadata": {},
   "source": [
    "## Dos puntos característicos"
   ]
  },
  {
   "cell_type": "markdown",
   "id": "95b9f71d",
   "metadata": {},
   "source": [
    "Se va a tomar como referencia la siguiente fotografía:"
   ]
  },
  {
   "cell_type": "markdown",
   "id": "d0cc7e88",
   "metadata": {},
   "source": [
    "<img src=\"img/fotografia.jpg\" width=\"40%\"></img>"
   ]
  },
  {
   "cell_type": "markdown",
   "id": "e32cf73b",
   "metadata": {},
   "source": [
    "Se conocen los puntos característicos del `Santuario de Nuestra Señora de la Fuensanta, 30157 Murcia` y `Casa del Cabildo (o Casa del Sacristán), 30157 Murcia`."
   ]
  },
  {
   "cell_type": "markdown",
   "id": "0c97a006",
   "metadata": {},
   "source": [
    "En primer lugar, se va a calcular la distancia en píxeles de los edificios, con la ayuda de *Medidor.py*, modificado para indicar el ángulo y la distancia en píxeles entre dos puntos:"
   ]
  },
  {
   "cell_type": "markdown",
   "id": "bbda7371",
   "metadata": {},
   "source": [
    "<img src=\"img/calculo-pixeles-distancia.png\" width=\"40%\"></img>"
   ]
  },
  {
   "cell_type": "markdown",
   "id": "7193f2c1",
   "metadata": {},
   "source": [
    "Como se puede observar, la distancia entre ambos edificios es 129.1 píxeles, y los rayos ópticos que pasan por ambos forman un ángulo de 10 grados."
   ]
  },
  {
   "cell_type": "code",
   "execution_count": null,
   "id": "b0e33618",
   "metadata": {},
   "outputs": [],
   "source": [
    "ANGULO = 10\n",
    "PIXELES_ENTRE_EDIFICIOS = 129.1"
   ]
  },
  {
   "cell_type": "markdown",
   "id": "f45485bd",
   "metadata": {},
   "source": [
    "En segundo lugar, se va a buscar la distancia en metros entre estos dos edificios:"
   ]
  },
  {
   "cell_type": "markdown",
   "id": "0a0b982b",
   "metadata": {},
   "source": [
    "<img src=\"img/metros_distancia.png\" width=\"25%\"></img>"
   ]
  },
  {
   "cell_type": "markdown",
   "id": "da23fc92",
   "metadata": {},
   "source": [
    "Como se puede observar, andando están a 160 metros, por lo que se puede aproximar que están a unos 100 metros en línea recta."
   ]
  },
  {
   "cell_type": "code",
   "execution_count": null,
   "id": "db336d97",
   "metadata": {},
   "outputs": [],
   "source": [
    "METROS_ENTRE_EDIFICIOS = 100"
   ]
  },
  {
   "cell_type": "markdown",
   "id": "346094e2",
   "metadata": {},
   "source": [
    "Posteriormente, se tiene el siguiente dibujo:"
   ]
  },
  {
   "cell_type": "markdown",
   "id": "23d55518",
   "metadata": {},
   "source": [
    "<img src=\"img/rectangulo-medidas.png\" width=\"40%\"></img>"
   ]
  },
  {
   "cell_type": "markdown",
   "id": "e1454c35",
   "metadata": {},
   "source": [
    "Como se puede observar:\n",
    "- d es la mitad de la distancia entre la casa y el monasterio: 85 metros / 2\n",
    "- $\\alpha$ es la mitad del ángulo que forman los rayos ópticos que pasan por ambos puntos: 10 grados / 2\n",
    "- p es la distancia entre la mitad entre la casa y el monasterio, y el punto desde el que se tomó la fotografía: Lo que se quiere calcular"
   ]
  },
  {
   "cell_type": "markdown",
   "id": "6cc0fecf",
   "metadata": {},
   "source": [
    "Por razones trigonométricas: $$\\tan{(\\alpha)} =\\frac{d}{p} \\rightarrow p = \\frac{d}{\\tan{(\\alpha)}}$$"
   ]
  },
  {
   "cell_type": "markdown",
   "id": "d37c829f",
   "metadata": {},
   "source": [
    "Se calcula el valor de p:"
   ]
  },
  {
   "cell_type": "code",
   "execution_count": null,
   "id": "f2c353dc",
   "metadata": {},
   "outputs": [],
   "source": [
    "import numpy as np\n",
    "alpha_grados = ANGULO/2 #grados\n",
    "alpha_radianes = np.radians(alpha_grados) #radianes\n",
    "\n",
    "d = METROS_ENTRE_EDIFICIOS/2 #metros\n",
    "\n",
    "tan_alpha = np.tan(alpha_radianes)\n",
    "\n",
    "p = d / tan_alpha #metros\n",
    "p"
   ]
  },
  {
   "cell_type": "markdown",
   "id": "32e5edf9",
   "metadata": {},
   "source": [
    "Una vez obtenido todo lo anterior, se puede observar desde donde se tomó la fotografía dado un mapa (captura de Google Maps):"
   ]
  },
  {
   "cell_type": "code",
   "execution_count": null,
   "id": "1f136915",
   "metadata": {},
   "outputs": [],
   "source": [
    "import cv2\n",
    "import numpy as np\n",
    "import matplotlib.pyplot as plt\n",
    "\n",
    "# Imagen del mapa\n",
    "mapa = cv2.imread('./img/mapa.png')\n",
    "\n",
    "# Puntos característicos\n",
    "p1 = (360, 390)\n",
    "p2 = (410, 200)\n",
    "\n",
    "# Distancia entre los puntos característicos en metros (2*d)\n",
    "_2_d = 85\n",
    "\n",
    "# Dibujar línea entre puntos característicos (2*d)\n",
    "cv2.line(mapa, p1, p2, (0,0,0), 2)\n",
    "\n",
    "# Dibujar los puntos característicos\n",
    "cv2.circle(mapa, p1, 5, (0,0,0), -1)\n",
    "cv2.circle(mapa, p2, 5, (0,0,0), -1)\n",
    "\n",
    "# Dibujar línea p\n",
    "## Calcular el punto medio\n",
    "punto_medio = (int((p1[0] + p2[0])/2), int((p1[1]+p2[1])/2))\n",
    "cv2.circle(mapa, punto_medio, 5, (255,255,255), -1)\n",
    "## Calcular vector entre p1 y p2\n",
    "vector_p1_p2 = np.array(p1) - np.array(p2)\n",
    "## Calcular el vector de dirección p\n",
    "p_vector = np.array([-vector_p1_p2[1], vector_p1_p2[0]])\n",
    "## Normalizar el vector de dirección p\n",
    "p_vector = p_vector / np.linalg.norm(p_vector)\n",
    "## Calcular la distancia de p en píxeles\n",
    "dist_p_pix = d * PIXELES_ENTRE_EDIFICIOS / METROS_ENTRE_EDIFICIOS\n",
    "## Vector de dirección p con distancias correctas\n",
    "p_vector = p_vector * dist_p_pix\n",
    "## Punto final del vector (desde el que se tomó la fotografía)\n",
    "punto_fotografia = (int(punto_medio[0] + p_vector[0]), int(punto_medio[1] + p_vector[1]))\n",
    "## Dibujar la linea p\n",
    "cv2.line(mapa, punto_medio, punto_fotografia, (255, 255, 255), 2)\n",
    "cv2.circle(mapa, punto_fotografia, 6, (255, 0, 255), -1)\n",
    "\n",
    "# Mostrar imagen con las líneas dibujadas\n",
    "plt.figure(figsize=(8,6))\n",
    "plt.imshow(cv2.cvtColor(mapa, cv2.COLOR_BGR2RGB))\n",
    "plt.show()"
   ]
  },
  {
   "cell_type": "markdown",
   "id": "72905dff",
   "metadata": {},
   "source": [
    "El punto desde el que se tomó la fotografía fue el punto rosa. "
   ]
  },
  {
   "cell_type": "markdown",
   "id": "0b9927d0",
   "metadata": {},
   "source": [
    "Debe tenerse en cuenta que la fotografía no fue tomada por mí, por lo que desconozco el ancho y alto de la imagen original tomada por la cámara, y la distancia focal de esta. Se han tomado las medidas de la cámara de mi portatil (Acer Aspire 3) porque no se tenía ninguna fotografía con lugares característicos. Es por ello que el punto real desde el que se tomó la fotografía podría variar del resultado obtenido."
   ]
  },
  {
   "cell_type": "markdown",
   "id": "6b8135f4",
   "metadata": {},
   "source": [
    "### Bibliografía:"
   ]
  },
  {
   "cell_type": "markdown",
   "id": "b3e60286",
   "metadata": {},
   "source": [
    "[Dibujar una línea](https://www.geeksforgeeks.org/python-opencv-cv2-line-method/)\n",
    "\n",
    "[Dibujar un círculo](https://www.geeksforgeeks.org/python-opencv-cv2-circle-method/)\n",
    "\n",
    "[Apuntes de la asignatura](https://github.com/albertoruiz/umucv)\n",
    "\n",
    "[Grados a radianes](https://runebook.dev/es/docs/numpy/reference/generated/numpy.radians)"
   ]
  },
  {
   "cell_type": "code",
   "execution_count": null,
   "id": "52c18ceb",
   "metadata": {},
   "outputs": [],
   "source": []
  }
 ],
 "metadata": {
  "kernelspec": {
   "display_name": "Python 3 (ipykernel)",
   "language": "python",
   "name": "python3"
  },
  "language_info": {
   "codemirror_mode": {
    "name": "ipython",
    "version": 3
   },
   "file_extension": ".py",
   "mimetype": "text/x-python",
   "name": "python",
   "nbconvert_exporter": "python",
   "pygments_lexer": "ipython3",
   "version": "3.11.5"
  }
 },
 "nbformat": 4,
 "nbformat_minor": 5
}
