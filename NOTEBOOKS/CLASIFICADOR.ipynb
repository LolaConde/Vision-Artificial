{
 "cells": [
  {
   "cell_type": "markdown",
   "id": "a50fe399",
   "metadata": {},
   "source": [
    "# Índice"
   ]
  },
  {
   "cell_type": "markdown",
   "id": "42c56344",
   "metadata": {},
   "source": [
    "[Ejecución del código](#Ejecución-del-código)\n",
    "\n",
    "[Ejemplo de funcionamiento](#Ejemplo-de-funcionamiento)\n",
    "- [Embedder](#Embedder)\n",
    "- [skimageHog](#skimageHog)\n",
    "- [SIFT](#SIFT)\n",
    "\n",
    "[Tardanza del código](#Tardanza-del-código)"
   ]
  },
  {
   "cell_type": "markdown",
   "id": "1aa5c5f6",
   "metadata": {},
   "source": [
    "# CLASIFICADOR"
   ]
  },
  {
   "cell_type": "markdown",
   "id": "7d260a8b",
   "metadata": {},
   "source": [
    "## Ejecución del código"
   ]
  },
  {
   "cell_type": "markdown",
   "id": "47e3f2e3",
   "metadata": {},
   "source": [
    "Para ejecutar el código de CLASIFICADOR, se debe de ejecutar el código de `clasificador.py` desde la carpeta `CLASIFICADOR/code` en el entorno de anaconda prompt explicado al inicio de la asignatura. Se deben de pasar como parámetros la carpeta en la que se encuentran las imágenes y el nombre del método. Si por ejemplo, se quiere realizar el método *Embedder* con la carpeta de fotografías que se encuentra ejecutando *cd ../images/ImagesEmbedder*, se debe de ejecutar el siguiente comando:"
   ]
  },
  {
   "cell_type": "markdown",
   "id": "ca2a011b",
   "metadata": {},
   "source": [
    "<p style=\"text-align: center;\">clasificador.py --method=embedder --models=../images/ImagesEmbedder</p>"
   ]
  },
  {
   "cell_type": "markdown",
   "id": "a2a9284f",
   "metadata": {},
   "source": [
    "## Ejemplo de funcionamiento"
   ]
  },
  {
   "cell_type": "markdown",
   "id": "eae1c68e",
   "metadata": {},
   "source": [
    "Es relevante mencionar que se muestra la imagen a la que más se parece el frame actual arriba a la izquierda."
   ]
  },
  {
   "cell_type": "markdown",
   "id": "1bfa04a5",
   "metadata": {},
   "source": [
    "### Embedder"
   ]
  },
  {
   "cell_type": "markdown",
   "id": "51a790ee",
   "metadata": {},
   "source": [
    "Se van a presentar algunas imágenes del funcionamiento del clasificador Embedder. Si se utiliza una carpeta con imágenes  (models) de distintas zonas de una habitación (incluso personas) las identifica de zona correcta, aunque la imagen tenga distinta luminancia, resolución, o tamaño que los frames tomados con la cámara actual:"
   ]
  },
  {
   "cell_type": "markdown",
   "id": "82e9fa9c",
   "metadata": {},
   "source": [
    "<table><tr>\n",
    "<td> <img src=\"Imágenes/CLASIFICADOR/embedder-cara.png\"/> </td>\n",
    "<td> <img src=\"Imágenes/CLASIFICADOR/embedder-otra-camara-luz.png\"/> </td>\n",
    "<td> <img src=\"Imágenes/CLASIFICADOR/embedder-pared.png\"/> </td>\n",
    "</tr></table>"
   ]
  },
  {
   "cell_type": "markdown",
   "id": "8fcb4845",
   "metadata": {},
   "source": [
    "A su vez, funciona con cuadros, aunque estos se encuentren movidos o con colores algo alterados:"
   ]
  },
  {
   "cell_type": "markdown",
   "id": "f8337fc9",
   "metadata": {},
   "source": [
    "<table><tr>\n",
    "<td> <img src=\"Imágenes/CLASIFICADOR/cuadro-2.png\"/> </td>\n",
    "<td> <img src=\"Imágenes/CLASIFICADOR/cuadro-1.png\"/> </td>\n",
    "<td> <img src=\"Imágenes/CLASIFICADOR/cuadros-error.png\"/> </td>\n",
    "</tr></table>"
   ]
  },
  {
   "cell_type": "markdown",
   "id": "fad2d77c",
   "metadata": {},
   "source": [
    "Como se ha podido observar, el clasificador falla en caso de que la fotografía se encuentre girada y más pequeña."
   ]
  },
  {
   "cell_type": "markdown",
   "id": "e834236f",
   "metadata": {},
   "source": [
    "Por lo tanto, para observar habitaciones funciona de forma correcta, pero con objetos (como cuadros) son preferibles otros clasificadores, a menos que estos objetos se muestren en la misma posición, distancia y ángulo que en la fotografía."
   ]
  },
  {
   "cell_type": "markdown",
   "id": "34ca5544",
   "metadata": {},
   "source": [
    "Por último indicar que con objetos simples funciona de forma correcta a pesar de la diferencia de color entre la imagen y el frame, como se puede observar a continuación:"
   ]
  },
  {
   "cell_type": "markdown",
   "id": "f61d1976",
   "metadata": {},
   "source": [
    "<video src=\"Imágenes/CLASIFICADOR/objetos-simples-embedder.mp4\" controls='play' style=\"width:50%\">\n",
    "</video>"
   ]
  },
  {
   "cell_type": "markdown",
   "id": "832e1dc2",
   "metadata": {},
   "source": [
    "### skimageHog"
   ]
  },
  {
   "cell_type": "markdown",
   "id": "34cd6b85",
   "metadata": {},
   "source": [
    "En este filtro, hay que tener cuidado con qué objeto se escoge, ya que si se escoge un objeto muy simple, podría confundirse con otras cosas. Por ejemplo, en el siguiente vídeo, en vez de identificar las gafas todo el tiempo, en ocasiones se confunde con el fondo de la imagen al pensar que es un ratón:"
   ]
  },
  {
   "cell_type": "markdown",
   "id": "1b0a07e6",
   "metadata": {},
   "source": [
    "<video src=\"Imágenes/CLASIFICADOR/confunde-gafas-raton.mp4\" controls='play' style=\"width:50%\">\n",
    "</video>"
   ]
  },
  {
   "cell_type": "markdown",
   "id": "06127b10",
   "metadata": {},
   "source": [
    "### SIFT"
   ]
  },
  {
   "cell_type": "markdown",
   "id": "09b8bb0c",
   "metadata": {},
   "source": [
    "El método SIFT funciona de forma correcta en cuadros y objetos complejos, pero hay que tener cuidado con los objetos simples, ya que, al tener pocos keypoints, son dificilmente identificables. Un ejemplo es el siguiente vídeo:"
   ]
  },
  {
   "cell_type": "markdown",
   "id": "f0127cb2",
   "metadata": {},
   "source": [
    "<video src=\"Imágenes/CLASIFICADOR/objetos-simples-sift.mp4\" controls='play' style=\"width:50%\">\n",
    "</video>"
   ]
  },
  {
   "cell_type": "markdown",
   "id": "4587d5bf",
   "metadata": {},
   "source": [
    "## Tardanza del código"
   ]
  },
  {
   "cell_type": "markdown",
   "id": "a8e16a34",
   "metadata": {},
   "source": [
    "Para ver cuanto tarda en ejecutar el código se va a añadir las siguientes líneas de código al inicio del programa (antes de mostrar frames), y cuando se captura y cuando se muestra el frame:"
   ]
  },
  {
   "cell_type": "code",
   "execution_count": null,
   "id": "306b30d6",
   "metadata": {},
   "outputs": [],
   "source": [
    "import time\n",
    "# ...\n",
    "inicio = time.time()\n",
    "\n",
    "# Código que se hace cada frame\n",
    "\n",
    "fin = time.time()\n",
    "print(fin-inicio)"
   ]
  },
  {
   "cell_type": "markdown",
   "id": "9427f75d",
   "metadata": {},
   "source": [
    "Como se puede observar, este código tarda 0 segundos porque no hace nada en medio, pero al añadirlo a `clasificador.py`, el tiempo aumenta:"
   ]
  },
  {
   "cell_type": "markdown",
   "id": "e78506e1",
   "metadata": {},
   "source": [
    "Se obtiene:"
   ]
  },
  {
   "cell_type": "markdown",
   "id": "24a56287",
   "metadata": {},
   "source": [
    "**Inicio** (con 1 carpeta que contiene 4 imágenes de distintos cuadros):\n",
    "- **Embedder**: *0.92* segundos\n",
    "- **skimageHog**: *3.4* segundos\n",
    "- **sift**: *5.8* segundos\n",
    "\n",
    "**Cada frame** (con una carpeta que 4 imágenes de distintas zonas de una habitación):\n",
    "- **Embedder**: Entre *0.01* y *0.02* segundos\n",
    "- **skimageHog**: Entre *0.07* y *0.12* segundos\n",
    "- **sift**: Entre *0.15* y *0.26* segundos\n",
    "\n",
    "Se probó moviendo mucho la cámara, de ahí la diferencia de segundos en cada frame."
   ]
  },
  {
   "cell_type": "markdown",
   "id": "a9d6bf43",
   "metadata": {},
   "source": [
    "Como se ha podido obervar, *Embedder* es el método que menos tarda en ejecutarse, seguido por *skimageHog*, y por último *sift*.\n",
    "\n",
    "Se tarda en iniciar debido a que se realizan tareas al inicio con las imágenes de forma que no se tengan que realizar por cada frame (y de este modo reducir el tiempo que tarda en mostrar cada frame y que vaya más fluido)."
   ]
  }
 ],
 "metadata": {
  "kernelspec": {
   "display_name": "Python 3 (ipykernel)",
   "language": "python",
   "name": "python3"
  },
  "language_info": {
   "codemirror_mode": {
    "name": "ipython",
    "version": 3
   },
   "file_extension": ".py",
   "mimetype": "text/x-python",
   "name": "python",
   "nbconvert_exporter": "python",
   "pygments_lexer": "ipython3",
   "version": "3.11.5"
  }
 },
 "nbformat": 4,
 "nbformat_minor": 5
}
