{
 "cells": [
  {
   "cell_type": "markdown",
   "id": "a50fe399",
   "metadata": {},
   "source": [
    "# Índice"
   ]
  },
  {
   "cell_type": "markdown",
   "id": "42c56344",
   "metadata": {},
   "source": [
    "[Ejecución del código](#Ejecución-del-código)\n",
    "\n",
    "[Ejemplo de funcionamiento](#Ejemplo-de-funcionamiento)\n",
    "- [Seleccionar ROI](#Seleccionar-ROI)\n",
    "- [Algunos filtros](#Algunos-filtros)\n",
    "  - [Ecualizador de histograma VS CLAHE](#Ecualizador-de-histograma-VS-CLAHE)\n",
    "  - [Opening](#Opening)\n",
    "\n",
    "[Tardanza del código](#Tardanza-del-código)\n",
    "- [Observaciones globales](#Observaciones-globales)"
   ]
  },
  {
   "cell_type": "markdown",
   "id": "1aa5c5f6",
   "metadata": {},
   "source": [
    "# FILTROS"
   ]
  },
  {
   "cell_type": "markdown",
   "id": "7d260a8b",
   "metadata": {},
   "source": [
    "## Ejecución del código"
   ]
  },
  {
   "cell_type": "markdown",
   "id": "47e3f2e3",
   "metadata": {},
   "source": [
    "Para ejecutar el código de FILTROS, se debe de ejecutar el código de `filtros.py` desde la carpeta `FILTROS` en el entorno de anaconda prompt explicado al inicio de la asignatura."
   ]
  },
  {
   "cell_type": "markdown",
   "id": "a2a9284f",
   "metadata": {},
   "source": [
    "## Ejemplo de funcionamiento"
   ]
  },
  {
   "cell_type": "markdown",
   "id": "1bfa04a5",
   "metadata": {},
   "source": [
    "### Seleccionar ROI"
   ]
  },
  {
   "cell_type": "markdown",
   "id": "51a790ee",
   "metadata": {},
   "source": [
    "Se debe de seleccionar una parte de la ventana, de forma que en esta se muestre el filtro seleccionado:"
   ]
  },
  {
   "cell_type": "markdown",
   "id": "82e9fa9c",
   "metadata": {},
   "source": [
    "<video src=\"Imágenes/FILTROS/seleccionROI.mp4\" controls='play' style=\"width:50%\">\n",
    "</video>"
   ]
  },
  {
   "cell_type": "markdown",
   "id": "73a0cf5e",
   "metadata": {},
   "source": [
    "Como se puede observar, cada vez que se selecciona un filtro, se vuelve a crear la ventana."
   ]
  },
  {
   "cell_type": "markdown",
   "id": "8fcb4845",
   "metadata": {},
   "source": [
    "### Algunos filtros"
   ]
  },
  {
   "cell_type": "markdown",
   "id": "fad2d77c",
   "metadata": {},
   "source": [
    "Los filtros se han explicado en la memoria, por lo que sólo se ve necesario indicar que se muestran en la parte del \"ROI\" seleccionado cuando se pulsa la tecla correspondiente al filtro. "
   ]
  },
  {
   "cell_type": "markdown",
   "id": "e834236f",
   "metadata": {},
   "source": [
    "Como se ha podido observar, se ve el filtro seleccionado al inicio de la región seleccionada, y se pueden modificar algunos parámetros de algunos filtros."
   ]
  },
  {
   "cell_type": "markdown",
   "id": "832e1dc2",
   "metadata": {},
   "source": [
    "Se cree necesario mostrar algunos filtros:"
   ]
  },
  {
   "cell_type": "markdown",
   "id": "6cf82700",
   "metadata": {},
   "source": [
    "#### Ecualizador de histograma VS CLAHE"
   ]
  },
  {
   "cell_type": "markdown",
   "id": "554cf30b",
   "metadata": {},
   "source": [
    "<video src=\"Imágenes/FILTROS/CLAHE-vs-EH.mp4\" controls='play' style=\"width:50%\">\n",
    "</video>"
   ]
  },
  {
   "cell_type": "markdown",
   "id": "4f48bb5d",
   "metadata": {},
   "source": [
    "Como se puede observar, mientras que CLAHE muestra la imagen con más detalles, el ecualizador de histograma amplifica el ruido de la imagen mostrando zonas demasiado blancas en contraste con otras. Esto se comentó en la memoria realizada."
   ]
  },
  {
   "cell_type": "markdown",
   "id": "d73a0a24",
   "metadata": {},
   "source": [
    "#### Opening"
   ]
  },
  {
   "cell_type": "markdown",
   "id": "f75d6a86",
   "metadata": {},
   "source": [
    "<table><tr>\n",
    "<td> <img src=\"Imágenes/FILTROS/sin-filtro.png\"/> </td>\n",
    "<td> <img src=\"Imágenes/FILTROS/openin.png\"/> </td>\n",
    "</tr></table>"
   ]
  },
  {
   "cell_type": "markdown",
   "id": "0a85ae43",
   "metadata": {},
   "source": [
    "Como se puede observar, el filtro *opening* permite eliminar los brillos muy blancos que aparecen por las luces (se puede observar en los brillos de las gafas)."
   ]
  },
  {
   "cell_type": "markdown",
   "id": "4587d5bf",
   "metadata": {},
   "source": [
    "## Tardanza del código"
   ]
  },
  {
   "cell_type": "markdown",
   "id": "a8e16a34",
   "metadata": {},
   "source": [
    "Para ver cuanto tarda en ejecutar el código se va a añadir las siguientes líneas de código al inicio del programa (antes de mostrar frames), y cuando se captura y cuando se muestra el frame:"
   ]
  },
  {
   "cell_type": "code",
   "execution_count": null,
   "id": "306b30d6",
   "metadata": {},
   "outputs": [],
   "source": [
    "import time\n",
    "# ...\n",
    "inicio = time.time()\n",
    "\n",
    "# Código que se hace cada frame\n",
    "\n",
    "fin = time.time()\n",
    "print(fin-inicio)"
   ]
  },
  {
   "cell_type": "markdown",
   "id": "9427f75d",
   "metadata": {},
   "source": [
    "Como se puede observar, este código tarda 0 segundos porque no hace nada en medio, pero al añadirlo a `filtros.py`, el tiempo aumenta:"
   ]
  },
  {
   "cell_type": "markdown",
   "id": "e78506e1",
   "metadata": {},
   "source": [
    "No se van a mostrar capturas (como ocurría con HANDS) debido a la cantidad de filtros. Se obtiene:"
   ]
  },
  {
   "cell_type": "markdown",
   "id": "24a56287",
   "metadata": {},
   "source": [
    "La carga del programa tarda 0.17 segundos en ejecutarse (en efecto, sólo crea la ventana y muestra la ayuda)\n",
    "\n",
    "**No filtro**: 0.001 segundos\n",
    "\n",
    "**Box**: Dependiendo del tamaño del ROI, entre *0.001* (pequeño) y *0.003* (grande) segundos.\n",
    "\n",
    "**Gaussian**: Al igual que en Box, el tamaño del ROI afecta a los segundos. A su vez, cuanto más aumenta el parámetro de desviación estándar, más tarda en ejecutarse (hasta llegar a los *0.26* segundos, cuando al poner poca desviación estándar se obtenían *0.03* segundos). Esto podría deverse a múltiples factores, pero al tener un tamaño de kernel calculado de forma automática, el hacerse con mayor desviación estándar podría indicar que se realiza el filtro con un tamaño de kernel mayor, lo que afectaría al tiempo al tener que consultar más vecinos por cada pixel.\n",
    "\n",
    "**Median**: Se calcula la mediana, que es una operación rápida, por lo que el tiempo dedicado es pequeño. Al igual que en los anteriores cuanto más grande el tamaño del kernel más tarda en ejecutarse (de *0.01* a *0.05* segundos).\n",
    "\n",
    "**Bilateral**: Es el que más tarda en ejecutarse. Tarda *2.2* segundos en los valores por defecto (15 y 15), pero si estos se disminuyen el tiempo así lo hace (con 7 tardan *0.5* segundos y con 1 tardan *0.01* segundos). El disminuir Sigma Color (a 3) manteniendo el Sigma Space(a 15) no baja en excesivo el tiempo (*2.08* segundos), pero al contrario baja a *0.07* segundos. \n",
    "\n",
    "Esto tiene su explicación en que, como se explicó en la memoria, Sigma Space indica qué píxeles se consideran lo suficientemente cercanos para tenerse en cuenta (de forma que cuanto más cercano más peso tiene), por lo que su disminución implica tener en cuenta menos píxeles. Sin embargo, Sigma Color indica los colores, por lo que se tendrán que seguir revisando todos los píxeles para ver su color.\n",
    "\n",
    "**Minimo** y **Máximo**: Desde *0.03* segundos con tamaño de kernel pequeño hasta *0.1* segundos con tamaño de kernel grande. \n",
    "\n",
    "Al igual que los anteriores, el tener un tamaño de ROI pequeño hace que el tiempo disminuya (*0.1* tamaño de kernel y ROI grande, *0.004* tamaño de ROI pequeño y de kernel grande).\n",
    "\n",
    "**Transformación de valor**: Al sumar un valor constante a cada pixel, el valor no influye en el tiempo. El tamaño del ROI influye, pero menos que otros debido a que no se deben realizar muchas operaciones para calcular una suma. Por ello, la diferencia va de *0.001* segundos hasta *0.004* segundos\n",
    "\n",
    "**Ecualizador de histograma**: Dependiendo del tamaño del ROI, entre *0.001* y *0.004* segundos.\n",
    "\n",
    "**CLAHE**: Es más pesado que el ecualizador de histogramas, ya que realiza histogramas locales en vez de uno global, por lo que tarda más (entre *0.001* y *0.01* segundos).\n",
    "\n",
    "**Opening**: Dependiendo del tamaño del ROI, entre *0.001* y *0.003* segundos. No se realiza muchos cálculos, por lo que tiene sentido su tardanza."
   ]
  },
  {
   "cell_type": "markdown",
   "id": "ae2d4547",
   "metadata": {},
   "source": [
    "### Observaciones globales"
   ]
  },
  {
   "cell_type": "markdown",
   "id": "fbd742a9",
   "metadata": {},
   "source": [
    "- Cuanto más grande es el kernel, más tarda el filtro en ejecutarse\n",
    "- Cuanto más grande es el ROI, más tarda el filtro en ejecutarse\n",
    "- Cuando más acciones debe realizar el filtro, más diferencia hay entre los casos rápidos (tamaño de ROI o/y kernel pequeño) y los casos lentos (tamaño del ROI o/y kernel grande)"
   ]
  }
 ],
 "metadata": {
  "kernelspec": {
   "display_name": "Python 3 (ipykernel)",
   "language": "python",
   "name": "python3"
  },
  "language_info": {
   "codemirror_mode": {
    "name": "ipython",
    "version": 3
   },
   "file_extension": ".py",
   "mimetype": "text/x-python",
   "name": "python",
   "nbconvert_exporter": "python",
   "pygments_lexer": "ipython3",
   "version": "3.11.5"
  }
 },
 "nbformat": 4,
 "nbformat_minor": 5
}
