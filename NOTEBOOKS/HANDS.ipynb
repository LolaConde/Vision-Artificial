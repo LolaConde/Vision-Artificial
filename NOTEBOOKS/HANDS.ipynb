{
 "cells": [
  {
   "cell_type": "markdown",
   "id": "a50fe399",
   "metadata": {},
   "source": [
    "# Índice"
   ]
  },
  {
   "cell_type": "markdown",
   "id": "42c56344",
   "metadata": {},
   "source": [
    "[Ejecución del código](#Ejecución-del-código)\n",
    "\n",
    "- [Dedos levantados](#Dedos-levantados)\n",
    "- [Grados](#Grados)\n",
    "- [Distancia a la cámara](#Distancia-a-la-cámara)\n",
    "- [Abrir y cerrar una aplicación](#Abrir-y-cerrar-una-aplicación)\n",
    "\n",
    "[Tardanza del código](#Tardanza-del-código)"
   ]
  },
  {
   "cell_type": "markdown",
   "id": "1aa5c5f6",
   "metadata": {},
   "source": [
    "# HANDS"
   ]
  },
  {
   "cell_type": "markdown",
   "id": "7d260a8b",
   "metadata": {},
   "source": [
    "## Ejecución del código"
   ]
  },
  {
   "cell_type": "markdown",
   "id": "47e3f2e3",
   "metadata": {},
   "source": [
    "Para ejecutar el código de HANDS, se debe de ejecutar el código de `mano.py` desde la carpeta `HANDS` en el entorno de anaconda prompt explicado al inicio de la asignatura."
   ]
  },
  {
   "cell_type": "markdown",
   "id": "a2a9284f",
   "metadata": {},
   "source": [
    "## Ejemplo de funcionamiento"
   ]
  },
  {
   "cell_type": "markdown",
   "id": "6e1f3fc4",
   "metadata": {},
   "source": [
    "Una vez abierta la aplicación, se debe mostrar una mano en la cámara (si se muestra más de una, sólo se tendrá una en cuenta, y en esta se dibujarán líneas en los dedos y un circulo azul en la palma)."
   ]
  },
  {
   "cell_type": "markdown",
   "id": "1bfa04a5",
   "metadata": {},
   "source": [
    "### Dedos levantados"
   ]
  },
  {
   "cell_type": "markdown",
   "id": "51a790ee",
   "metadata": {},
   "source": [
    "Si se levantan o bajan los dedos, se indica en la pantalla qué dedos están levantados:"
   ]
  },
  {
   "cell_type": "markdown",
   "id": "82e9fa9c",
   "metadata": {},
   "source": [
    "<table><tr>\n",
    "<td> <img src=\"Imágenes/HANDS/dedos-en-alto.png\"/> </td>\n",
    "<td> <img src=\"Imágenes/HANDS/4-dedos-en-alto.png\"/> </td>\n",
    "<td> <img src=\"Imágenes/HANDS/dedos-hacia-delante.png\"/> </td>\n",
    "<td> <img src=\"Imágenes/HANDS/dedos-hacia-atras.png\"/> </td>\n",
    "</tr></table>"
   ]
  },
  {
   "cell_type": "markdown",
   "id": "73a0cf5e",
   "metadata": {},
   "source": [
    "Como se puede observar, el programa diferencia los dedos indiferentemente de la posición de la mano."
   ]
  },
  {
   "cell_type": "markdown",
   "id": "8fcb4845",
   "metadata": {},
   "source": [
    "### Grados"
   ]
  },
  {
   "cell_type": "markdown",
   "id": "fad2d77c",
   "metadata": {},
   "source": [
    "También se puede observar el ángulo de la mano, de forma que va desde 180 hasta -180 grados:"
   ]
  },
  {
   "cell_type": "markdown",
   "id": "e834236f",
   "metadata": {},
   "source": [
    "<table><tr>\n",
    "<td> <img src=\"Imágenes/HANDS/0-grados.png\"/> </td>\n",
    "<td> <img src=\"Imágenes/HANDS/90-grados.png\"/> </td>\n",
    "<td> <img src=\"Imágenes/HANDS/179-grados.png\"/> </td>\n",
    "<td> <img src=\"Imágenes/HANDS/-90-grados.png\"/> </td>\n",
    "</tr></table>"
   ]
  },
  {
   "cell_type": "markdown",
   "id": "093f79f4",
   "metadata": {},
   "source": [
    "### Distancia a la cámara"
   ]
  },
  {
   "cell_type": "markdown",
   "id": "52e4e4d7",
   "metadata": {},
   "source": [
    "Como se puede observar, se indica la distancia a la cámara (se muestra un video donde se acerca y se aleja la mano para que se va de mejor forma:"
   ]
  },
  {
   "cell_type": "markdown",
   "id": "8bb50271",
   "metadata": {},
   "source": [
    "<video src=\"Imágenes/HANDS/distancia-mano.mp4\" controls='play' style=\"width:50%\">\n",
    "</video>"
   ]
  },
  {
   "cell_type": "markdown",
   "id": "c777e9b8",
   "metadata": {},
   "source": [
    "### Abrir y cerrar una aplicación"
   ]
  },
  {
   "cell_type": "markdown",
   "id": "e4a670f5",
   "metadata": {},
   "source": [
    "Se presenta un vídeo en el que se ve cómo se abre (cinco dedos arriba) y se cierra (cinco dedos abajo) una aplicación con `mano.py`:"
   ]
  },
  {
   "cell_type": "markdown",
   "id": "a94fd2e7",
   "metadata": {},
   "source": [
    "<video src=\"Imágenes/HANDS/abrir-cerrar-aplicacion.mp4\" controls='play' style=\"width:50%\">\n",
    "</video>"
   ]
  },
  {
   "cell_type": "markdown",
   "id": "4587d5bf",
   "metadata": {},
   "source": [
    "## Tardanza del código"
   ]
  },
  {
   "cell_type": "markdown",
   "id": "a8e16a34",
   "metadata": {},
   "source": [
    "Para ver cuanto tarda en ejecutar el código se va a añadir las siguientes líneas de código cuando se captura y cuando se muestra el frame:"
   ]
  },
  {
   "cell_type": "code",
   "execution_count": null,
   "id": "306b30d6",
   "metadata": {},
   "outputs": [],
   "source": [
    "import time\n",
    "# ...\n",
    "inicio = time.time()\n",
    "\n",
    "# Código que se hace cada frame\n",
    "\n",
    "fin = time.time()\n",
    "print(fin-inicio)"
   ]
  },
  {
   "cell_type": "markdown",
   "id": "9427f75d",
   "metadata": {},
   "source": [
    "Como se puede observar, este código tarda 0 segundos porque no hace nada en medio, pero al añadirlo a `mano.py`, el tiempo aumenta:"
   ]
  },
  {
   "cell_type": "markdown",
   "id": "e78506e1",
   "metadata": {},
   "source": [
    "<table>\n",
    "    <tr>\n",
    "        <td> <img src=\"Imágenes/HANDS/tiempo-hands-no-manos.png\"/> </td>\n",
    "        <td> <img src=\"Imágenes/HANDS/tiempo-hands-1-mano.png\"/> </td>\n",
    "        <td> <img src=\"Imágenes/HANDS/tiempo-hands-2-manos-moviendose.png\"/> </td>\n",
    "    </tr>\n",
    "    <tr>\n",
    "        <td>Tiempo por frame al no mostrar manos</td>\n",
    "        <td>Tiempo por frame al mostrar una mano</td>\n",
    "        <td>Tiempo por frame al mostrar dos manos <br>moviéndose, entrando, y saliendo del frame</td>\n",
    "    </tr>\n",
    "</table>\n"
   ]
  },
  {
   "cell_type": "markdown",
   "id": "e52ef9fd",
   "metadata": {},
   "source": [
    "Como se puede observar, al no mostrar manos, cada frame tarda unos 0.07 segundos en mostrarse.\n",
    "\n",
    "Como es de esperar, al mostrar una mano, el hecho de tener que hacer más cálculos hace que el frame tarde más en mostrarse (unos 0.12 segundos).\n",
    "\n",
    "El hecho de mover las manos hace que en algunos frames sea más dificil calcular el frame resultante a mostrar (0.19 segundos), y en otros más sencillo (0.06 segundos). Los frames más sencillos tienen un tiempo similar a los tiempos al no mostrar manos, por lo que se puede intuir que en esos frames no se mostraron manos (o estas no fueron reconocidas al no verse de forma correcta por la velocidad)."
   ]
  }
 ],
 "metadata": {
  "kernelspec": {
   "display_name": "Python 3 (ipykernel)",
   "language": "python",
   "name": "python3"
  },
  "language_info": {
   "codemirror_mode": {
    "name": "ipython",
    "version": 3
   },
   "file_extension": ".py",
   "mimetype": "text/x-python",
   "name": "python",
   "nbconvert_exporter": "python",
   "pygments_lexer": "ipython3",
   "version": "3.11.5"
  }
 },
 "nbformat": 4,
 "nbformat_minor": 5
}
